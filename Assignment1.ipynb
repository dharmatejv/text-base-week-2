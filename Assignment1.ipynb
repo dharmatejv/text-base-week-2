{
 "cells": [
  {
   "cell_type": "markdown",
   "id": "5a93dfe3",
   "metadata": {},
   "source": [
    "# Assignment-1"
   ]
  },
  {
   "cell_type": "markdown",
   "id": "24f47e6d-c26c-4e22-bd41-2349a82239bb",
   "metadata": {},
   "source": [
    "# Python string methods"
   ]
  },
  {
   "cell_type": "markdown",
   "id": "afc52e0a-b8d7-4448-993d-8aca5b6f8e14",
   "metadata": {},
   "source": [
    "## Python String  capitalize()  Method\n",
    "\n"
   ]
  },
  {
   "cell_type": "code",
   "execution_count": 9,
   "id": "784d9e3f-bb5e-478c-9b7b-2dcfd2a62fac",
   "metadata": {},
   "outputs": [
    {
     "name": "stdout",
     "output_type": "stream",
     "text": [
      "Hello, and welcome to my world.\n"
     ]
    }
   ],
   "source": [
    "#The capitalize() method returns a string where the first character is upper case, and the rest is lower case.\n",
    "a= \"hello, and welcome to my world.\"\n",
    "\n",
    "b = a.capitalize()\n",
    "\n",
    "print (b)"
   ]
  },
  {
   "cell_type": "markdown",
   "id": "add39d9b-87c6-46f1-8154-e3b07e45072c",
   "metadata": {},
   "source": [
    "## Python String casefold() Method"
   ]
  },
  {
   "cell_type": "code",
   "execution_count": 10,
   "id": "b64084ce-9378-4e52-a2c6-ea8d38f63c50",
   "metadata": {},
   "outputs": [
    {
     "name": "stdout",
     "output_type": "stream",
     "text": [
      "hello, and welcome to my world!\n"
     ]
    }
   ],
   "source": [
    "#The casefold() method returns a string where all the characters are lower case.\n",
    "S = \"Hello, And Welcome To My World!\"\n",
    "\n",
    "T = S.casefold()\n",
    "\n",
    "print(T)"
   ]
  },
  {
   "cell_type": "markdown",
   "id": "b6ebe4d1-420e-4de1-a9a1-985fd2d42c7b",
   "metadata": {},
   "source": [
    "## Python String center() Method"
   ]
  },
  {
   "cell_type": "code",
   "execution_count": 18,
   "id": "faba389b-ebf2-4018-9bc3-40a11e0cda97",
   "metadata": {},
   "outputs": [
    {
     "name": "stdout",
     "output_type": "stream",
     "text": [
      "venkatesh\n",
      "     venkatesh      \n"
     ]
    }
   ],
   "source": [
    "#The center() method will center align the string, using a specified character (space is default) as the fill character.\n",
    "r = \"venkatesh\"\n",
    "\n",
    "h = r.center(20)\n",
    "\n",
    "print(r)\n",
    "print(h)"
   ]
  },
  {
   "cell_type": "markdown",
   "id": "e63e553c-4cdd-4d81-8c7d-98ef3c51de40",
   "metadata": {},
   "source": [
    "## Python String count() Method"
   ]
  },
  {
   "cell_type": "code",
   "execution_count": 16,
   "id": "7d4f646b-ef98-40cc-acfe-f2560fdd96d3",
   "metadata": {},
   "outputs": [
    {
     "name": "stdout",
     "output_type": "stream",
     "text": [
      "2\n"
     ]
    }
   ],
   "source": [
    "#The count() method returns the number of times a specified value appears in the string.\n",
    "t = \"sam love sita but sita loves ram\"\n",
    "\n",
    "g = t.count(\"sita\")\n",
    "\n",
    "print(g)\n"
   ]
  },
  {
   "cell_type": "markdown",
   "id": "4f310776-436a-4d06-9099-6cf204f7582a",
   "metadata": {},
   "source": [
    "## Python String casefold() Method"
   ]
  },
  {
   "cell_type": "markdown",
   "id": "e004edda-ca21-47ca-b746-df4cdb86b3ea",
   "metadata": {},
   "source": [
    "#The encode() method encodes the string, using the specified encoding. If no encoding is specified\n",
    "#UTF-8 will be used.\n",
    "\n",
    "t(x)t(x)"
   ]
  },
  {
   "cell_type": "code",
   "execution_count": 22,
   "id": "6e75c4e1-ff4d-453a-83dc-02e895c67916",
   "metadata": {},
   "outputs": [
    {
     "name": "stdout",
     "output_type": "stream",
     "text": [
      "b'My name is Dh\\xc3\\xa5rm\\xc3\\xa5tej'\n"
     ]
    }
   ],
   "source": [
    "ax = \"My name is Dhårmåtej\"\n",
    "\n",
    "rx = ax.encode()\n",
    "\n",
    "print(rx)"
   ]
  },
  {
   "cell_type": "code",
   "execution_count": 25,
   "id": "4ab89172-a357-4a24-969b-a4a0fb43f43a",
   "metadata": {},
   "outputs": [
    {
     "name": "stdout",
     "output_type": "stream",
     "text": [
      "b'My name is Dh\\\\xe5rm\\\\xe5tej '\n",
      "b'My name is Dhrmtej '\n",
      "b'My name is Dh\\\\N{LATIN SMALL LETTER A WITH RING ABOVE}rm\\\\N{LATIN SMALL LETTER A WITH RING ABOVE}tej '\n",
      "b'My name is Dh?rm?tej '\n",
      "b'My name is Dh&#229;rm&#229;tej '\n"
     ]
    }
   ],
   "source": [
    "sentence = \"My name is Dhårmåtej \"\n",
    "\n",
    "print(sentence.encode(encoding=\"ascii\",errors=\"backslashreplace\"))\n",
    "print(sentence.encode(encoding=\"ascii\",errors=\"ignore\"))\n",
    "print(sentence.encode(encoding=\"ascii\",errors=\"namereplace\"))\n",
    "print(sentence.encode(encoding=\"ascii\",errors=\"replace\"))\n",
    "print(sentence.encode(encoding=\"ascii\",errors=\"xmlcharrefreplace\"))"
   ]
  },
  {
   "cell_type": "markdown",
   "id": "90e5e28b-8e1a-4187-9a02-04de87db4249",
   "metadata": {},
   "source": [
    "## Python String endswith() Method"
   ]
  },
  {
   "cell_type": "code",
   "execution_count": 26,
   "id": "ff78596f-ef0e-40c6-b32f-9568d2ba7893",
   "metadata": {},
   "outputs": [
    {
     "name": "stdout",
     "output_type": "stream",
     "text": [
      "True\n"
     ]
    }
   ],
   "source": [
    "#The endswith() method returns True if the string ends with the specified value, otherwise False.\n",
    "\n",
    "DT = \"Hello, welcome to my world.\"\n",
    "\n",
    "TJ = DT.endswith(\"my world.\")\n",
    "\n",
    "print(TJ)"
   ]
  },
  {
   "cell_type": "markdown",
   "id": "f53471c7-b650-4284-9feb-343ac3c87fce",
   "metadata": {},
   "source": [
    "## Python String expandtabs() Method"
   ]
  },
  {
   "cell_type": "code",
   "execution_count": 27,
   "id": "7435b6be-4104-440a-a7b0-c54ffa467484",
   "metadata": {},
   "outputs": [
    {
     "name": "stdout",
     "output_type": "stream",
     "text": [
      "H\te\tl\tl\to\n",
      "H       e       l       l       o\n",
      "H e l l o\n",
      "H   e   l   l   o\n",
      "H         e         l         l         o\n"
     ]
    }
   ],
   "source": [
    "#The expandtabs() method sets the tab size to the specified number of whitespaces.\n",
    "expand = \"H\\te\\tl\\tl\\to\"\n",
    "\n",
    "print(expand)\n",
    "print(expand.expandtabs())\n",
    "print(expand.expandtabs(2))\n",
    "print(expand.expandtabs(4))\n",
    "print(expand.expandtabs(10))"
   ]
  },
  {
   "cell_type": "markdown",
   "id": "9dd8e685-3dd6-4f85-bb11-e444d5437b4d",
   "metadata": {},
   "source": [
    "## Python String find() Method"
   ]
  },
  {
   "cell_type": "code",
   "execution_count": 28,
   "id": "8ffb3eca-982e-4af5-af7a-e1a8ad8010fb",
   "metadata": {},
   "outputs": [
    {
     "name": "stdout",
     "output_type": "stream",
     "text": [
      "1\n"
     ]
    }
   ],
   "source": [
    "#The find() method finds the first occurrence of the specified value.\n",
    "\n",
    "#The find() method returns -1 if the value is not found.\n",
    "\n",
    "#The find() method is almost the same as the index() method, the only difference is that the index() method raises an exception if the value is not found. (See example below)\n",
    "\n",
    "sentence = \"Hello, welcome to my world.\"\n",
    "\n",
    "X = sentence.find(\"e\")\n",
    "\n",
    "print(X)"
   ]
  },
  {
   "cell_type": "markdown",
   "id": "45fec702-7987-498b-a01a-d1dbaa7869e1",
   "metadata": {},
   "source": [
    "## Python String format() Method"
   ]
  },
  {
   "cell_type": "code",
   "execution_count": 29,
   "id": "5036a485-7d89-4826-bf75-708d15a451e8",
   "metadata": {},
   "outputs": [
    {
     "name": "stdout",
     "output_type": "stream",
     "text": [
      "My name is John, I'm 36\n",
      "My name is John, I'm 36\n",
      "My name is John, I'm 36\n"
     ]
    }
   ],
   "source": [
    "#The format() method formats the specified value(s) and insert them inside the string's placeholder.\n",
    "\n",
    "#The placeholder is defined using curly brackets: {}. Read more about the placeholders in the Placeholder section below.\n",
    "\n",
    "#The format() method returns the formatted string.\n",
    "\n",
    "Format1 = \"My name is {fname}, I'm {age}\".format(fname = \"John\", age = 36)\n",
    "Format2 = \"My name is {0}, I'm {1}\".format(\"John\",36)\n",
    "Format3 = \"My name is {}, I'm {}\".format(\"John\",36)\n",
    "print(Format1)\n",
    "print(Format2)\n",
    "print(Format3)"
   ]
  },
  {
   "cell_type": "markdown",
   "id": "86042c75-149a-45e2-a0b9-30f3a0714525",
   "metadata": {},
   "source": [
    "## Python String index() Method"
   ]
  },
  {
   "cell_type": "code",
   "execution_count": 30,
   "id": "f1e3e2cc-e813-48c1-afc3-92d5a67ac3d7",
   "metadata": {},
   "outputs": [
    {
     "name": "stdout",
     "output_type": "stream",
     "text": [
      "1\n"
     ]
    }
   ],
   "source": [
    "#The index() method finds the first occurrence of the specified value.\n",
    "\n",
    "#The index() method raises an exception if the value is not found.\n",
    "\n",
    "#The index() method is almost the same as the find() method, the only difference is that the find() method returns -1 if the value is not found. (See example below)\n",
    "sentence = \"Hello, welcome to my world.\"\n",
    "\n",
    "x = sentence.index(\"e\")\n",
    "\n",
    "print(x)"
   ]
  },
  {
   "cell_type": "markdown",
   "id": "7ff259ee-231e-4777-8677-e738b1e86664",
   "metadata": {},
   "source": [
    "## Python String isascii() Method"
   ]
  },
  {
   "cell_type": "code",
   "execution_count": 31,
   "id": "f1032210-9e0b-473c-960b-044fe1fd104c",
   "metadata": {},
   "outputs": [
    {
     "name": "stdout",
     "output_type": "stream",
     "text": [
      "True\n"
     ]
    }
   ],
   "source": [
    "#The isascii() method returns True if all the characters are ascii characters  (a-z).\n",
    "word = \"Company123\"\n",
    "\n",
    "x = word.isascii()\n",
    "\n",
    "print(x)"
   ]
  },
  {
   "cell_type": "markdown",
   "id": "020684b6-b2ee-467e-bdab-4d1e25a52ea4",
   "metadata": {},
   "source": [
    "## Python String isdigit() Method"
   ]
  },
  {
   "cell_type": "code",
   "execution_count": 32,
   "id": "1990c4fa-d037-49b4-bb3f-b3938baa46d0",
   "metadata": {},
   "outputs": [
    {
     "name": "stdout",
     "output_type": "stream",
     "text": [
      "True\n",
      "True\n"
     ]
    }
   ],
   "source": [
    "#The isdigit() method returns True if all the characters are digits, otherwise False.\n",
    "\n",
    "digit1 = \"\\u0030\" #unicode for 0\n",
    "digit2 = \"\\u00B2\" #unicode for ²\n",
    "\n",
    "print(digit1.isdigit())\n",
    "print(digit2.isdigit())"
   ]
  },
  {
   "cell_type": "markdown",
   "id": "9d8f7f84-5fae-4a70-8d6d-e177f971d2c3",
   "metadata": {},
   "source": [
    "## Python String isidentifier() Method"
   ]
  },
  {
   "cell_type": "code",
   "execution_count": 33,
   "id": "13d6a289-e8bf-4f96-b6ae-322aa67411da",
   "metadata": {},
   "outputs": [
    {
     "name": "stdout",
     "output_type": "stream",
     "text": [
      "True\n"
     ]
    }
   ],
   "source": [
    "#The isidentifier() method returns True if the string is a valid identifier, otherwise False.\n",
    "\n",
    "word = \"Demo\"\n",
    "\n",
    "x = word.isidentifier()\n",
    "\n",
    "print(x)"
   ]
  },
  {
   "cell_type": "markdown",
   "id": "0e22b322-2ad6-4a9e-8125-36af1ae36a55",
   "metadata": {},
   "source": [
    "##  Python String isprintable() Method\n",
    "\n"
   ]
  },
  {
   "cell_type": "code",
   "execution_count": 34,
   "id": "153a0bb9-8993-4fb4-96fc-4c3fcbe8c144",
   "metadata": {},
   "outputs": [
    {
     "name": "stdout",
     "output_type": "stream",
     "text": [
      "True\n"
     ]
    }
   ],
   "source": [
    "#The isprintable() method returns True if all the characters are printable, otherwise False.\n",
    "\n",
    "string = \"Hello! Are you #1?\"\n",
    "\n",
    "x = string.isprintable()\n",
    "\n",
    "print(x)"
   ]
  },
  {
   "cell_type": "markdown",
   "id": "abdf7f0e-c6d5-412b-b326-a239c12b2877",
   "metadata": {},
   "source": [
    "## Python String isspace() Method"
   ]
  },
  {
   "cell_type": "code",
   "execution_count": 35,
   "id": "9623686b-d087-4bec-98f5-d584b175dfe4",
   "metadata": {},
   "outputs": [
    {
     "name": "stdout",
     "output_type": "stream",
     "text": [
      "True\n"
     ]
    }
   ],
   "source": [
    "#The isspace() method returns True if all the characters in a string are whitespaces, otherwise False.\n",
    "\n",
    "space = \"   \"\n",
    "\n",
    "x = space.isspace()\n",
    "\n",
    "print(x)"
   ]
  },
  {
   "cell_type": "markdown",
   "id": "d79f07ec-91f0-4d58-bfda-f66f63b29ea3",
   "metadata": {},
   "source": [
    "## Python String istitle() Method"
   ]
  },
  {
   "cell_type": "code",
   "execution_count": 36,
   "id": "7b1a507c-5522-4c92-a8c0-f8d170c26019",
   "metadata": {},
   "outputs": [
    {
     "name": "stdout",
     "output_type": "stream",
     "text": [
      "True\n"
     ]
    }
   ],
   "source": [
    "#The istitle() method returns True if all words in a text start with a upper case letter, AND the rest of the word are lower case letters, otherwise False.\n",
    "string = \"Hello, And Welcome To My World!\"\n",
    "\n",
    "x = string.istitle()\n",
    "\n",
    "print(x)"
   ]
  },
  {
   "cell_type": "markdown",
   "id": "57e0ee2f-59c2-43e2-9d50-60e7e6c98b04",
   "metadata": {},
   "source": [
    "## Python String isupper() Method"
   ]
  },
  {
   "cell_type": "code",
   "execution_count": 37,
   "id": "b7c61858-f8ca-40d3-82b1-e32b6dbb1a65",
   "metadata": {},
   "outputs": [
    {
     "name": "stdout",
     "output_type": "stream",
     "text": [
      "True\n"
     ]
    }
   ],
   "source": [
    "#The isupper() method returns True if all the characters are in upper case, otherwise False.\n",
    "upper = \"THIS IS NOW!\"\n",
    "\n",
    "x = upper.isupper()\n",
    "\n",
    "print(x)"
   ]
  },
  {
   "cell_type": "markdown",
   "id": "365fd802-ccca-4122-b5a2-e9f3b8aa7cf6",
   "metadata": {},
   "source": [
    "## Python String join() Method"
   ]
  },
  {
   "cell_type": "code",
   "execution_count": 38,
   "id": "b02d42dc-d317-4003-b661-6fc76d50acc9",
   "metadata": {},
   "outputs": [
    {
     "name": "stdout",
     "output_type": "stream",
     "text": [
      "John#Peter#Vicky\n"
     ]
    }
   ],
   "source": [
    "#The join() method takes all items in an iterable and joins them into one string.\n",
    "myTuple = (\"John\", \"Peter\", \"Vicky\")\n",
    "\n",
    "X = \"#\".join(myTuple)\n",
    "\n",
    "print(X)"
   ]
  },
  {
   "cell_type": "markdown",
   "id": "528042f4-e440-41d4-9414-e770e59843ad",
   "metadata": {},
   "source": [
    "## Python String ljust() Method"
   ]
  },
  {
   "cell_type": "code",
   "execution_count": 39,
   "id": "68f3290b-faa8-4dd8-9285-f25f9cf39b13",
   "metadata": {},
   "outputs": [
    {
     "name": "stdout",
     "output_type": "stream",
     "text": [
      "Jai HindOOOOOOOOOOOO\n"
     ]
    }
   ],
   "source": [
    "#The ljust() method will left align the string, using a specified character (space is default) as the fill character.\n",
    "string = \"Jai Hind\"\n",
    "\n",
    "x = string.ljust(20, \"O\")\n",
    "\n",
    "print(x)"
   ]
  },
  {
   "cell_type": "markdown",
   "id": "daca26e5-f477-46d7-9ba0-88626fcf7864",
   "metadata": {},
   "source": [
    "## Python String translate() Method"
   ]
  },
  {
   "cell_type": "code",
   "execution_count": 40,
   "id": "e93cb159-2b8b-4443-8d25-8c4962a11b0f",
   "metadata": {},
   "outputs": [
    {
     "name": "stdout",
     "output_type": "stream",
     "text": [
      "Hello Pam!\n"
     ]
    }
   ],
   "source": [
    "#use a dictionary with ascii codes to replace 83 (S) with 80 (P):\n",
    "mydict = {83:  80}\n",
    "word = \"Hello Sam!\"\n",
    "print(word.translate(mydict))"
   ]
  },
  {
   "cell_type": "markdown",
   "id": "d3eafc4d-ef93-4c34-9f68-8a8964f66e25",
   "metadata": {},
   "source": [
    "## Python String zfill() Method"
   ]
  },
  {
   "cell_type": "code",
   "execution_count": 41,
   "id": "d64c8a5d-7ec6-453e-9054-8d602347aed4",
   "metadata": {},
   "outputs": [
    {
     "name": "stdout",
     "output_type": "stream",
     "text": [
      "0000000050\n"
     ]
    }
   ],
   "source": [
    "#The zfill() method adds zeros (0) at the beginning of the string, until it reaches the specified length.\n",
    "digit= \"50\"\n",
    "\n",
    "output = digit.zfill(10)\n",
    "\n",
    "print(output)"
   ]
  },
  {
   "cell_type": "markdown",
   "id": "c00faeb5-13c9-40ea-b5a0-60c77b87ac7e",
   "metadata": {},
   "source": [
    "## Python String rpartition() Method"
   ]
  },
  {
   "cell_type": "code",
   "execution_count": 42,
   "id": "90ab399c-8e4a-4060-b2b7-941ca1056741",
   "metadata": {},
   "outputs": [
    {
     "name": "stdout",
     "output_type": "stream",
     "text": [
      "('', '', 'I could eat bananas all day, bananas are my favorite fruit')\n"
     ]
    }
   ],
   "source": [
    "#The rpartition() method searches for the last occurrence of a specified string, and splits the string into a tuple containing three elements.\n",
    "sentence = \"I could eat bananas all day, bananas are my favorite fruit\"\n",
    "\n",
    "output = sentence.rpartition(\"apples\")\n",
    "\n",
    "print(output)"
   ]
  },
  {
   "cell_type": "markdown",
   "id": "1d587541-6afd-4e99-96f9-bfd8d5b2b508",
   "metadata": {},
   "source": [
    "# Python RegEx"
   ]
  },
  {
   "cell_type": "code",
   "execution_count": 43,
   "id": "c774b8bc-988d-46d2-9091-21102e2a3339",
   "metadata": {},
   "outputs": [],
   "source": [
    "#A RegEx, or Regular Expression, is a sequence of characters that forms a search pattern.\n",
    "#RegEx can be used to check if a string contains the specified search pattern."
   ]
  },
  {
   "cell_type": "markdown",
   "id": "5ffc8075-84c1-4a07-8aa0-97f667bed357",
   "metadata": {},
   "source": [
    "## The findall() Function\n"
   ]
  },
  {
   "cell_type": "code",
   "execution_count": 53,
   "id": "14064e34-1c44-4bca-9c4a-e14134244d25",
   "metadata": {},
   "outputs": [
    {
     "name": "stdout",
     "output_type": "stream",
     "text": [
      "['ai', 'ai']\n"
     ]
    }
   ],
   "source": [
    "#The findall() function returns a list containing all matches.\n",
    "import re\n",
    "\n",
    "sentence = \"The rain in Spain\"\n",
    "output = re.findall(\"ai\", sentence)\n",
    "print(output)"
   ]
  },
  {
   "cell_type": "markdown",
   "id": "dce47b0a-0c73-4128-b484-5b2d0af47063",
   "metadata": {},
   "source": [
    "## The search() Function"
   ]
  },
  {
   "cell_type": "code",
   "execution_count": 54,
   "id": "b6d8827c-c33a-466b-b9ca-2a4d6d660ef1",
   "metadata": {},
   "outputs": [
    {
     "name": "stdout",
     "output_type": "stream",
     "text": [
      "Match found at position: 52\n",
      "Matched text: 12345\n"
     ]
    }
   ],
   "source": [
    "#The search() function searches the string for a match, and returns a Match object if there is a match.\n",
    "import re\n",
    "\n",
    "# Define a string\n",
    "text = \"Hello, this is a sample text with some numbers like 12345 and 67890.\"\n",
    "\n",
    "# Define a pattern to search for\n",
    "pattern = r'\\d+'  # This pattern will match one or more digits\n",
    "\n",
    "# Use search() to find the pattern in the text\n",
    "match = re.search(pattern, text)\n",
    "\n",
    "# Check if a match is found\n",
    "if match:\n",
    "    # Print the position of the match and the matched text\n",
    "    print(\"Match found at position:\", match.start())\n",
    "    print(\"Matched text:\", match.group())\n",
    "else:\n",
    "    print(\"No match found.\")"
   ]
  },
  {
   "cell_type": "markdown",
   "id": "65680987-2973-402b-8e26-decd0ae051bf",
   "metadata": {},
   "source": [
    "## The split() Function"
   ]
  },
  {
   "cell_type": "code",
   "execution_count": 55,
   "id": "c06ed92e-a032-4b67-8b4b-128e1e8f40a9",
   "metadata": {},
   "outputs": [
    {
     "name": "stdout",
     "output_type": "stream",
     "text": [
      "['The', 'rain', 'in', 'Spain']\n"
     ]
    }
   ],
   "source": [
    "#The split() function returns a list where the string has been split at each match\n",
    "import re\n",
    "\n",
    "# Input string\n",
    "sentence = \"The rain in Spain\"\n",
    "\n",
    "# Split the string using whitespace characters\n",
    "output = re.split(\"\\s\", sentence)\n",
    "\n",
    "# Print the result\n",
    "print(output)"
   ]
  },
  {
   "cell_type": "markdown",
   "id": "f22e55de-8e25-4459-9c37-f48faed0f314",
   "metadata": {},
   "source": [
    "## The sub() Function"
   ]
  },
  {
   "cell_type": "code",
   "execution_count": 57,
   "id": "7c04014e-b642-4c07-9003-9ce7729f062e",
   "metadata": {},
   "outputs": [
    {
     "name": "stdout",
     "output_type": "stream",
     "text": [
      "The9rain9in9Spain\n"
     ]
    }
   ],
   "source": [
    "#The sub() function replaces the matches with the text of your choice.\n",
    "import re\n",
    "\n",
    "sentence= \"The rain in Spain\"\n",
    "output = re.sub(\"\\s\", \"9\", sentence)\n",
    "print(output)"
   ]
  }
 ],
 "metadata": {
  "kernelspec": {
   "display_name": "Python 3 (ipykernel)",
   "language": "python",
   "name": "python3"
  },
  "language_info": {
   "codemirror_mode": {
    "name": "ipython",
    "version": 3
   },
   "file_extension": ".py",
   "mimetype": "text/x-python",
   "name": "python",
   "nbconvert_exporter": "python",
   "pygments_lexer": "ipython3",
   "version": "3.11.5"
  }
 },
 "nbformat": 4,
 "nbformat_minor": 5
}
