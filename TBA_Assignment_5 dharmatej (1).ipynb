{
 "cells": [
  {
   "cell_type": "markdown",
   "id": "a838c693",
   "metadata": {},
   "source": [
    "# Text Summarization "
   ]
  },
  {
   "cell_type": "markdown",
   "id": "fb2ca65a",
   "metadata": {},
   "source": [
    "## Importing Libraries"
   ]
  },
  {
   "cell_type": "code",
   "execution_count": 1,
   "id": "88b63426",
   "metadata": {},
   "outputs": [],
   "source": [
    "from nltk.corpus import stopwords #you can remove stop words for speed\n",
    "from nltk.cluster.util import cosine_distance\n",
    "import numpy as np\n",
    "import networkx as nx"
   ]
  },
  {
   "cell_type": "markdown",
   "id": "7bdbc970",
   "metadata": {},
   "source": [
    "## Opening Assignmenttext1 dharmatej.txt File"
   ]
  },
  {
   "cell_type": "code",
   "execution_count": 2,
   "id": "9b899a15",
   "metadata": {},
   "outputs": [
    {
     "name": "stdout",
     "output_type": "stream",
     "text": [
      "Artificial Intelligence (AI) is a branch of computer science focused on creating systems that can perform tasks that typically require human intelligence\n",
      "These tasks include things like learning, reasoning, problem-solving, perception, understanding natural language, and interacting with the environment\n",
      "\n"
     ]
    }
   ],
   "source": [
    "file = open(\"Assignmenttext1 dharmatej.txt\", \"r\")\n",
    "#This file contains one paragraph of multiple sentences\n",
    "filedata = file.readlines()\n",
    "article = filedata[0].split(\". \") #Just do the first paragraph\n",
    "\n",
    "sentences = []\n",
    "for sentence in article:\n",
    "    print(sentence)\n",
    "    sentences.append(sentence.replace(\"[^a-zA-Z]\", \" \").split(\" \"))"
   ]
  },
  {
   "cell_type": "markdown",
   "id": "19b267ac",
   "metadata": {},
   "source": [
    "## Spliting File into Sentences"
   ]
  },
  {
   "cell_type": "code",
   "execution_count": 3,
   "id": "d62db605",
   "metadata": {},
   "outputs": [
    {
     "name": "stdout",
     "output_type": "stream",
     "text": [
      "Sentences are  [['Artificial', 'Intelligence', '(AI)', 'is', 'a', 'branch', 'of', 'computer', 'science', 'focused', 'on', 'creating', 'systems', 'that', 'can', 'perform', 'tasks', 'that', 'typically', 'require', 'human', 'intelligence'], ['These', 'tasks', 'include', 'things', 'like', 'learning,', 'reasoning,', 'problem-solving,', 'perception,', 'understanding', 'natural', 'language,', 'and', 'interacting', 'with', 'the', 'environment'], ['']]\n"
     ]
    }
   ],
   "source": [
    "print(\"Sentences are \", sentences)"
   ]
  },
  {
   "cell_type": "markdown",
   "id": "1d2b43b4",
   "metadata": {},
   "source": [
    "## Creating a Function for Finding the Sentence Similarity"
   ]
  },
  {
   "cell_type": "code",
   "execution_count": 4,
   "id": "fa18abb5",
   "metadata": {},
   "outputs": [],
   "source": [
    "def sentence_similarity(sent1, sent2 ):\n",
    "    sent1 = [w.lower() for w in sent1]\n",
    "    sent2 = [w.lower() for w in sent2]\n",
    "    all_words = list(set(sent1 + sent2))\n",
    "    vector1 = [0] * len(all_words)\n",
    "    vector2 = [0] * len(all_words)\n",
    "     # build the vector for the first sentence\n",
    "    for w in sent1:\n",
    "          vector1[all_words.index(w)] += 1\n",
    "     # build the vector for the second sentence\n",
    "    for w in sent2:\n",
    "          vector2[all_words.index(w)] += 1\n",
    "    return 1 - cosine_distance(vector1, vector2)"
   ]
  },
  {
   "cell_type": "markdown",
   "id": "25ba48a1",
   "metadata": {},
   "source": [
    "## Creating the Similarity Matrix"
   ]
  },
  {
   "cell_type": "code",
   "execution_count": 5,
   "id": "63b461c4",
   "metadata": {},
   "outputs": [
    {
     "name": "stdout",
     "output_type": "stream",
     "text": [
      "Smilarity matrix \n",
      " [[0.         0.04756515 0.        ]\n",
      " [0.04756515 0.         0.        ]\n",
      " [0.         0.         0.        ]]\n"
     ]
    }
   ],
   "source": [
    "similarity_matrix = np.zeros((len(sentences), len(sentences)))\n",
    " \n",
    "for idx1 in range(len(sentences)):\n",
    "        for idx2 in range(len(sentences)):\n",
    "             if idx1 == idx2: #ignore if both are same sentences\n",
    "                continue \n",
    "             similarity_matrix[idx1][idx2] = sentence_similarity(sentences[idx1], sentences[idx2])\n",
    "\n",
    "print(\"Smilarity matrix \\n\", similarity_matrix)"
   ]
  },
  {
   "cell_type": "markdown",
   "id": "c58f801a",
   "metadata": {},
   "source": [
    "## Ranking the Sentences in Similarity Martix"
   ]
  },
  {
   "cell_type": "code",
   "execution_count": 6,
   "id": "937f1739",
   "metadata": {},
   "outputs": [
    {
     "name": "stdout",
     "output_type": "stream",
     "text": [
      "scores {0: 0.46511615458001815, 1: 0.46511615458001815, 2: 0.06976769083996354}\n"
     ]
    }
   ],
   "source": [
    "# Step 3 - Rank sentences in similarity martix\n",
    "sentence_similarity_graph = nx.from_numpy_array(similarity_matrix)\n",
    "scores = nx.pagerank(sentence_similarity_graph)\n",
    "print(\"scores\", scores)"
   ]
  },
  {
   "cell_type": "markdown",
   "id": "514b4d90",
   "metadata": {},
   "source": [
    "## Sorting Sentences by Pagerank"
   ]
  },
  {
   "cell_type": "code",
   "execution_count": 7,
   "id": "f573344c",
   "metadata": {},
   "outputs": [
    {
     "name": "stdout",
     "output_type": "stream",
     "text": [
      "Indexes of top ranked_sentence order are \n",
      "\n",
      " [(0.46511615458001815, ['These', 'tasks', 'include', 'things', 'like', 'learning,', 'reasoning,', 'problem-solving,', 'perception,', 'understanding', 'natural', 'language,', 'and', 'interacting', 'with', 'the', 'environment']), (0.46511615458001815, ['Artificial', 'Intelligence', '(AI)', 'is', 'a', 'branch', 'of', 'computer', 'science', 'focused', 'on', 'creating', 'systems', 'that', 'can', 'perform', 'tasks', 'that', 'typically', 'require', 'human', 'intelligence']), (0.06976769083996354, [''])]\n"
     ]
    }
   ],
   "source": [
    "# Step 4 - Sort the rank and pick top sentences\n",
    "ranked_sentence = sorted(((scores[i],s) for i,s in enumerate(sentences)), reverse=True)    \n",
    "print(\"Indexes of top ranked_sentence order are \\n\\n\", ranked_sentence)"
   ]
  },
  {
   "cell_type": "markdown",
   "id": "bed6e8fc",
   "metadata": {},
   "source": [
    "## Picking Sentences"
   ]
  },
  {
   "cell_type": "code",
   "execution_count": 8,
   "id": "77f64fd9",
   "metadata": {},
   "outputs": [
    {
     "name": "stdout",
     "output_type": "stream",
     "text": [
      "How many sentences do you want in the summary? 3\n"
     ]
    }
   ],
   "source": [
    "#Step 5 - How many sentences to pick\n",
    "n = int(input(\"How many sentences do you want in the summary? \"))\n",
    "#n=2\n",
    "summarize_text = []\n",
    "for i in range(n):\n",
    "      summarize_text.append(\" \".join(ranked_sentence[i][1]))"
   ]
  },
  {
   "cell_type": "markdown",
   "id": "049dbe33",
   "metadata": {},
   "source": [
    "## Summarizing the Final Text"
   ]
  },
  {
   "cell_type": "code",
   "execution_count": 9,
   "id": "30ed9962",
   "metadata": {},
   "outputs": [
    {
     "name": "stdout",
     "output_type": "stream",
     "text": [
      "Summarize Text: \n",
      " These tasks include things like learning, reasoning, problem-solving, perception, understanding natural language, and interacting with the environment. Artificial Intelligence (AI) is a branch of computer science focused on creating systems that can perform tasks that typically require human intelligence. \n"
     ]
    }
   ],
   "source": [
    "# Step 6 - Offcourse, output the summarize text\n",
    "print(\"Summarize Text: \\n\", \". \".join(summarize_text))"
   ]
  }
 ],
 "metadata": {
  "kernelspec": {
   "display_name": "Python 3 (ipykernel)",
   "language": "python",
   "name": "python3"
  },
  "language_info": {
   "codemirror_mode": {
    "name": "ipython",
    "version": 3
   },
   "file_extension": ".py",
   "mimetype": "text/x-python",
   "name": "python",
   "nbconvert_exporter": "python",
   "pygments_lexer": "ipython3",
   "version": "3.11.5"
  }
 },
 "nbformat": 4,
 "nbformat_minor": 5
}
