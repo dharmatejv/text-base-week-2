{
 "cells": [
  {
   "cell_type": "code",
   "execution_count": 1,
   "id": "9fcf2309",
   "metadata": {},
   "outputs": [
    {
     "name": "stdout",
     "output_type": "stream",
     "text": [
      "hello\n"
     ]
    }
   ],
   "source": [
    "a=\"hello\"\n",
    "print(a)"
   ]
  },
  {
   "cell_type": "code",
   "execution_count": 3,
   "id": "706026da",
   "metadata": {},
   "outputs": [
    {
     "name": "stdout",
     "output_type": "stream",
     "text": [
      "llo\n"
     ]
    }
   ],
   "source": [
    "b=\"Hello, World!\"\n",
    "print(b[2:5])"
   ]
  },
  {
   "cell_type": "code",
   "execution_count": 5,
   "id": "feea4384",
   "metadata": {},
   "outputs": [
    {
     "name": "stdout",
     "output_type": "stream",
     "text": [
      "HELLO, WORLD\n",
      "hello, world\n",
      "Jello, World\n"
     ]
    }
   ],
   "source": [
    "a=\"Hello, World\"\n",
    "print(a.upper())\n",
    "print(a.lower())\n",
    "print(a.replace(\"H\",\"J\"))\n"
   ]
  },
  {
   "cell_type": "code",
   "execution_count": 8,
   "id": "1a38b40e",
   "metadata": {},
   "outputs": [
    {
     "name": "stdout",
     "output_type": "stream",
     "text": [
      "Hello World\n"
     ]
    }
   ],
   "source": [
    "a=\"Hello\"\n",
    "b=\"World\"\n",
    "c=a+\" \"+b\n",
    "print(c)"
   ]
  },
  {
   "cell_type": "code",
   "execution_count": 26,
   "id": "51a99f64",
   "metadata": {},
   "outputs": [
    {
     "data": {
      "text/plain": [
       "['One', 'two', 'three', 'four']"
      ]
     },
     "execution_count": 26,
     "metadata": {},
     "output_type": "execute_result"
    }
   ],
   "source": [
    "my_string='One two three four'\n",
    "word_list=my_string.split()\n",
    "word_list\n",
    "\n"
   ]
  },
  {
   "cell_type": "code",
   "execution_count": 25,
   "id": "bf189d29",
   "metadata": {},
   "outputs": [
    {
     "data": {
      "text/plain": [
       "['1', '2', '3', '4', '5']"
      ]
     },
     "execution_count": 25,
     "metadata": {},
     "output_type": "execute_result"
    }
   ],
   "source": [
    "my_string='1/2/3/4/5'\n",
    "number_list=my_string.split('/')\n",
    "number_list\n",
    "\n"
   ]
  },
  {
   "cell_type": "code",
   "execution_count": 16,
   "id": "961fcb67",
   "metadata": {},
   "outputs": [
    {
     "data": {
      "text/plain": [
       "['21', '42', '23', '34', '54']"
      ]
     },
     "execution_count": 16,
     "metadata": {},
     "output_type": "execute_result"
    }
   ],
   "source": [
    "my_string='21/42/23/34/54'\n",
    "number_list=my_string.split('/')\n",
    "number_list\n"
   ]
  },
  {
   "cell_type": "code",
   "execution_count": 15,
   "id": "a74808e2",
   "metadata": {},
   "outputs": [
    {
     "data": {
      "text/plain": [
       "['peach', 'raspberry', 'strawberry', 'vanilla']"
      ]
     },
     "execution_count": 15,
     "metadata": {},
     "output_type": "execute_result"
    }
   ],
   "source": [
    "my_string='peach raspberry strawberry vanilla'\n",
    "word_list=my_string.split()\n",
    "word_list\n"
   ]
  },
  {
   "cell_type": "code",
   "execution_count": 14,
   "id": "92742707",
   "metadata": {},
   "outputs": [
    {
     "data": {
      "text/plain": [
       "['17', '92', '81', '12', '46', '5']"
      ]
     },
     "execution_count": 14,
     "metadata": {},
     "output_type": "execute_result"
    }
   ],
   "source": [
    "my_string='17;92;81;12;46;5'\n",
    "number_list=my_string.split(';')\n",
    "number_list\n"
   ]
  },
  {
   "cell_type": "code",
   "execution_count": 36,
   "id": "f90b2d04",
   "metadata": {},
   "outputs": [
    {
     "data": {
      "text/plain": [
       "False"
      ]
     },
     "execution_count": 36,
     "metadata": {},
     "output_type": "execute_result"
    }
   ],
   "source": [
    "a= 'I AM STUDENT'\n",
    "a.islower()"
   ]
  },
  {
   "cell_type": "code",
   "execution_count": 37,
   "id": "7e085928",
   "metadata": {},
   "outputs": [
    {
     "data": {
      "text/plain": [
       "'i am student '"
      ]
     },
     "execution_count": 37,
     "metadata": {},
     "output_type": "execute_result"
    }
   ],
   "source": [
    "b =' i am student '\n",
    "b.lstrip()"
   ]
  },
  {
   "cell_type": "code",
   "execution_count": 14,
   "id": "3c672200",
   "metadata": {},
   "outputs": [
    {
     "data": {
      "text/plain": [
       "True"
      ]
     },
     "execution_count": 14,
     "metadata": {},
     "output_type": "execute_result"
    }
   ],
   "source": [
    "c= '12'\n",
    "c.isalnum()"
   ]
  },
  {
   "cell_type": "code",
   "execution_count": 15,
   "id": "3bb71d09",
   "metadata": {},
   "outputs": [
    {
     "data": {
      "text/plain": [
       "True"
      ]
     },
     "execution_count": 15,
     "metadata": {},
     "output_type": "execute_result"
    }
   ],
   "source": [
    "d='Hello'\n",
    "d.isalpha()"
   ]
  },
  {
   "cell_type": "code",
   "execution_count": 35,
   "id": "f77595b4",
   "metadata": {},
   "outputs": [
    {
     "data": {
      "text/plain": [
       "True"
      ]
     },
     "execution_count": 35,
     "metadata": {},
     "output_type": "execute_result"
    }
   ],
   "source": [
    "e = '1234'\n",
    "e.isdigit()"
   ]
  },
  {
   "cell_type": "code",
   "execution_count": 43,
   "id": "be6ef6c9",
   "metadata": {},
   "outputs": [
    {
     "name": "stdout",
     "output_type": "stream",
     "text": [
      "<class 'str'>\n",
      "True\n",
      "False\n",
      "False\n",
      "False\n",
      "False\n",
      "True\n"
     ]
    }
   ],
   "source": [
    "f= 'GIAPP5841P'\n",
    "print(type(f))\n",
    "print(f.isalnum())\n",
    "print(f.islower())\n",
    "print(f.isalpha())\n",
    "print(f.isdigit())\n",
    "print(f.isspace())\n",
    "print(f.isupper())"
   ]
  },
  {
   "cell_type": "code",
   "execution_count": 52,
   "id": "190e3529",
   "metadata": {},
   "outputs": [
    {
     "name": "stdout",
     "output_type": "stream",
     "text": [
      "<class 'str'>\n"
     ]
    },
    {
     "data": {
      "text/plain": [
       "'giapp5841p'"
      ]
     },
     "execution_count": 52,
     "metadata": {},
     "output_type": "execute_result"
    }
   ],
   "source": [
    "g= 'GIAPP5841P'\n",
    "print(type(f))\n",
    "g.lower()"
   ]
  },
  {
   "cell_type": "code",
   "execution_count": 57,
   "id": "634f7fcf",
   "metadata": {},
   "outputs": [
    {
     "name": "stdout",
     "output_type": "stream",
     "text": [
      "<class 'str'>\n",
      "   Dharma Tej \n"
     ]
    }
   ],
   "source": [
    "h = '   Dharma Tej '\n",
    "print(type(h))\n",
    "print(h)"
   ]
  },
  {
   "cell_type": "code",
   "execution_count": 58,
   "id": "592b7c60",
   "metadata": {},
   "outputs": [
    {
     "data": {
      "text/plain": [
       "'Dharma Tej '"
      ]
     },
     "execution_count": 58,
     "metadata": {},
     "output_type": "execute_result"
    }
   ],
   "source": [
    "h.lstrip()"
   ]
  },
  {
   "cell_type": "code",
   "execution_count": 64,
   "id": "4ba0fb6c",
   "metadata": {},
   "outputs": [
    {
     "name": "stdout",
     "output_type": "stream",
     "text": [
      "<class 'str'>\n"
     ]
    },
    {
     "data": {
      "text/plain": [
       "' Hello Dharma ###'"
      ]
     },
     "execution_count": 64,
     "metadata": {},
     "output_type": "execute_result"
    }
   ],
   "source": [
    "i = '### Hello Dharma ###'\n",
    "print(type(i))\n",
    "i.lstrip('#')"
   ]
  },
  {
   "cell_type": "code",
   "execution_count": 65,
   "id": "5d4e5637",
   "metadata": {},
   "outputs": [
    {
     "data": {
      "text/plain": [
       "'### Hello Dharma ###'"
      ]
     },
     "execution_count": 65,
     "metadata": {},
     "output_type": "execute_result"
    }
   ],
   "source": [
    "i.rstrip()"
   ]
  },
  {
   "cell_type": "code",
   "execution_count": 66,
   "id": "71589b0a",
   "metadata": {},
   "outputs": [
    {
     "data": {
      "text/plain": [
       "'### Hello Dharma '"
      ]
     },
     "execution_count": 66,
     "metadata": {},
     "output_type": "execute_result"
    }
   ],
   "source": [
    "i.rstrip('#')"
   ]
  },
  {
   "cell_type": "code",
   "execution_count": 67,
   "id": "f85b95a5",
   "metadata": {},
   "outputs": [
    {
     "data": {
      "text/plain": [
       "'### Hello Dharma ###'"
      ]
     },
     "execution_count": 67,
     "metadata": {},
     "output_type": "execute_result"
    }
   ],
   "source": [
    "i.strip()"
   ]
  },
  {
   "cell_type": "code",
   "execution_count": 68,
   "id": "2aab396f",
   "metadata": {},
   "outputs": [
    {
     "data": {
      "text/plain": [
       "' Hello Dharma '"
      ]
     },
     "execution_count": 68,
     "metadata": {},
     "output_type": "execute_result"
    }
   ],
   "source": [
    "i.strip('#')"
   ]
  },
  {
   "cell_type": "code",
   "execution_count": 69,
   "id": "c81a3321",
   "metadata": {},
   "outputs": [
    {
     "data": {
      "text/plain": [
       "'### HELLO DHARMA ###'"
      ]
     },
     "execution_count": 69,
     "metadata": {},
     "output_type": "execute_result"
    }
   ],
   "source": [
    "i.upper()"
   ]
  }
 ],
 "metadata": {
  "kernelspec": {
   "display_name": "Python 3 (ipykernel)",
   "language": "python",
   "name": "python3"
  },
  "language_info": {
   "codemirror_mode": {
    "name": "ipython",
    "version": 3
   },
   "file_extension": ".py",
   "mimetype": "text/x-python",
   "name": "python",
   "nbconvert_exporter": "python",
   "pygments_lexer": "ipython3",
   "version": "3.11.5"
  }
 },
 "nbformat": 4,
 "nbformat_minor": 5
}
