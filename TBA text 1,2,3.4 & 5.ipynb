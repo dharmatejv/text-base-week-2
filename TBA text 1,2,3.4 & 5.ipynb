{
 "cells": [
  {
   "cell_type": "markdown",
   "id": "622b850f-7961-4d98-9dce-6f1b5cc7d602",
   "metadata": {},
   "source": [
    "# Text 1"
   ]
  },
  {
   "cell_type": "markdown",
   "id": "00a702fd-b111-4b68-8922-565aaa3ca993",
   "metadata": {},
   "source": [
    "## Import needed modules"
   ]
  },
  {
   "cell_type": "code",
   "execution_count": 52,
   "id": "3f77d9fe-9c03-43d1-902a-0898c6ce4860",
   "metadata": {},
   "outputs": [],
   "source": [
    "from nltk.corpus import stopwords #you can remove stop words for speed\n",
    "from nltk.cluster.util import cosine_distance\n",
    "import numpy as np\n",
    "import networkx as nx\n"
   ]
  },
  {
   "cell_type": "code",
   "execution_count": 53,
   "id": "3fcdf879-f90b-4eac-ab73-8ca5d52f8a7c",
   "metadata": {},
   "outputs": [
    {
     "name": "stdout",
     "output_type": "stream",
     "text": [
      "It was the best of times\n",
      "It was the worst of times\n",
      "It was the age of wisdom\n",
      "It was the age of foolishness\n",
      "What is the importance of age\n",
      "This is the best example\n"
     ]
    }
   ],
   "source": [
    "import re\n",
    "\n",
    "file_path = \"C:/Users/dharm/Downloads/Text1.txt\"\n",
    "try:\n",
    "    with open(file_path, \"r\") as file:\n",
    "        # This file contains one paragraph of multiple sentences\n",
    "        filedata = file.readlines()\n",
    "        article = filedata[0].split(\". \")  # Just do the first paragraph\n",
    "\n",
    "        sentences = []\n",
    "        for sentence in article:\n",
    "            cleaned_sentence = re.sub(r'[^a-zA-Z\\s]', '', sentence)  # Use correct pattern for substitution\n",
    "            print(cleaned_sentence)\n",
    "            words = cleaned_sentence.split()\n",
    "            sentences.append(words)\n",
    "except FileNotFoundError:\n",
    "    print(f\"The file at the path {file_path} does not exist.\")\n"
   ]
  },
  {
   "cell_type": "code",
   "execution_count": 54,
   "id": "aa455b3b-061d-4c30-b632-c1349f80ae18",
   "metadata": {},
   "outputs": [
    {
     "name": "stdout",
     "output_type": "stream",
     "text": [
      "Sentences are  [['It', 'was', 'the', 'best', 'of', 'times'], ['It', 'was', 'the', 'worst', 'of', 'times'], ['It', 'was', 'the', 'age', 'of', 'wisdom'], ['It', 'was', 'the', 'age', 'of', 'foolishness'], ['What', 'is', 'the', 'importance', 'of', 'age'], ['This', 'is', 'the', 'best', 'example']]\n"
     ]
    }
   ],
   "source": [
    "print(\"Sentences are \", sentences)\n"
   ]
  },
  {
   "cell_type": "markdown",
   "id": "c6b837a9-ab05-41c6-969e-aea0ce23741d",
   "metadata": {},
   "source": [
    "## Function to calculate similarity "
   ]
  },
  {
   "cell_type": "code",
   "execution_count": 55,
   "id": "6beb2054-6e42-407e-b1c0-c285a5bc1182",
   "metadata": {},
   "outputs": [
    {
     "name": "stdout",
     "output_type": "stream",
     "text": [
      "Cosine Similarity between sentence 1 and sentence 2: 0.8333333333333335\n"
     ]
    }
   ],
   "source": [
    "import re\n",
    "from sklearn.metrics.pairwise import cosine_similarity\n",
    "\n",
    "def sentence_similarity(sent1, sent2):\n",
    "    sent1 = [w.lower() for w in sent1]\n",
    "    sent2 = [w.lower() for w in sent2]\n",
    "\n",
    "    all_words = list(set(sent1 + sent2))\n",
    "    vector1 = [0] * len(all_words)\n",
    "    vector2 = [0] * len(all_words)\n",
    "\n",
    "    # build the vector for the first sentence\n",
    "    for w in sent1:\n",
    "        vector1[all_words.index(w)] += 1\n",
    "\n",
    "    # build the vector for the second sentence\n",
    "    for w in sent2:\n",
    "        vector2[all_words.index(w)] += 1\n",
    "\n",
    "    # calculate cosine similarity using scikit-learn\n",
    "    vector1 = [vector1]\n",
    "    vector2 = [vector2]\n",
    "\n",
    "    similarity = cosine_similarity(vector1, vector2)[0][0]\n",
    "    return similarity\n",
    "\n",
    "file_path = \"C:/Users/dharm/Downloads/Text1.txt\"\n",
    "try:\n",
    "    with open(file_path, \"r\") as file:\n",
    "        # This file contains one paragraph of multiple sentences\n",
    "        filedata = file.readlines()\n",
    "        article = filedata[0].split(\". \")  # Just do the first paragraph\n",
    "\n",
    "        sentences = []\n",
    "        for sentence in article:\n",
    "            cleaned_sentence = re.sub(r'[^a-zA-Z\\s]', '', sentence.strip())  # Use correct pattern for substitution and strip trailing spaces\n",
    "            words = cleaned_sentence.split()\n",
    "            sentences.append(words)\n",
    "\n",
    "        # Example: Calculate similarity between the first two sentences\n",
    "        if len(sentences) >= 2:\n",
    "            similarity_score = sentence_similarity(sentences[0], sentences[1])\n",
    "            print(f\"Cosine Similarity between sentence 1 and sentence 2: {similarity_score}\")\n",
    "        else:\n",
    "            print(\"Insufficient number of sentences to compare.\")\n",
    "except FileNotFoundError:\n",
    "    print(f\"The file at the path {file_path} does not exist.\")\n"
   ]
  },
  {
   "cell_type": "markdown",
   "id": "ded5b4b2-a788-4174-9d13-63e5a02a5e79",
   "metadata": {},
   "source": [
    "## Create the similarity matrix "
   ]
  },
  {
   "cell_type": "code",
   "execution_count": 56,
   "id": "2c5d3e12-9d2a-4824-9ffe-85263fcd639f",
   "metadata": {},
   "outputs": [
    {
     "name": "stdout",
     "output_type": "stream",
     "text": [
      "Smilarity matrix \n",
      " [[0.         0.83333333 0.66666667 0.66666667 0.33333333 0.36514837]\n",
      " [0.83333333 0.         0.66666667 0.66666667 0.33333333 0.18257419]\n",
      " [0.66666667 0.66666667 0.         0.83333333 0.5        0.18257419]\n",
      " [0.66666667 0.66666667 0.83333333 0.         0.5        0.18257419]\n",
      " [0.33333333 0.33333333 0.5        0.5        0.         0.36514837]\n",
      " [0.36514837 0.18257419 0.18257419 0.18257419 0.36514837 0.        ]]\n"
     ]
    }
   ],
   "source": [
    "similarity_matrix = np.zeros((len(sentences), len(sentences)))\n",
    " \n",
    "for idx1 in range(len(sentences)):\n",
    "        for idx2 in range(len(sentences)):\n",
    "             if idx1 == idx2: #ignore if both are same sentences\n",
    "                continue \n",
    "             similarity_matrix[idx1][idx2] = sentence_similarity(sentences[idx1], sentences[idx2])\n",
    "\n",
    "print(\"Smilarity matrix \\n\", similarity_matrix)\n"
   ]
  },
  {
   "cell_type": "markdown",
   "id": "9dbe5514-1eff-4cee-9032-bd10f0f1308d",
   "metadata": {},
   "source": [
    "##  Rank sentences in similarity martix"
   ]
  },
  {
   "cell_type": "code",
   "execution_count": 57,
   "id": "87ff8071-ba64-49db-b338-d2480eeaf2b3",
   "metadata": {},
   "outputs": [
    {
     "name": "stdout",
     "output_type": "stream",
     "text": [
      "scores {0: 0.19306449754902083, 1: 0.18095893645850156, 2: 0.1911855225552033, 3: 0.1911855225552033, 4: 0.14434636291527997, 5: 0.09925915796679063}\n"
     ]
    }
   ],
   "source": [
    "sentence_similarity_graph = nx.from_numpy_array(similarity_matrix)\n",
    "scores = nx.pagerank(sentence_similarity_graph)\n",
    "print(\"scores\", scores)\n"
   ]
  },
  {
   "cell_type": "markdown",
   "id": "4f411a8e-6a0c-425e-a3d2-9803f07e9b21",
   "metadata": {},
   "source": [
    "##  Sort sentences by pagerank"
   ]
  },
  {
   "cell_type": "code",
   "execution_count": 58,
   "id": "5a262757-c975-46f4-9c61-1eb1ac4c6807",
   "metadata": {},
   "outputs": [
    {
     "name": "stdout",
     "output_type": "stream",
     "text": [
      "Indexes of top ranked_sentence order are \n",
      "\n",
      " [(0.19306449754902083, ['It', 'was', 'the', 'best', 'of', 'times']), (0.1911855225552033, ['It', 'was', 'the', 'age', 'of', 'wisdom']), (0.1911855225552033, ['It', 'was', 'the', 'age', 'of', 'foolishness']), (0.18095893645850156, ['It', 'was', 'the', 'worst', 'of', 'times']), (0.14434636291527997, ['What', 'is', 'the', 'importance', 'of', 'age']), (0.09925915796679063, ['This', 'is', 'the', 'best', 'example'])]\n"
     ]
    }
   ],
   "source": [
    "ranked_sentence = sorted(((scores[i],s) for i,s in enumerate(sentences)), reverse=True)    \n",
    "print(\"Indexes of top ranked_sentence order are \\n\\n\", ranked_sentence)\n"
   ]
  },
  {
   "cell_type": "markdown",
   "id": "1c723d0d-f6de-431d-80d7-28e86712c640",
   "metadata": {},
   "source": [
    "## Pick the top “n” sentences"
   ]
  },
  {
   "cell_type": "code",
   "execution_count": 59,
   "id": "d1919814-7169-4b60-92db-916e68f75a05",
   "metadata": {},
   "outputs": [
    {
     "name": "stdout",
     "output_type": "stream",
     "text": [
      "How many sentences do you want in the summary? 3\n"
     ]
    }
   ],
   "source": [
    "n = int(input(\"How many sentences do you want in the summary? \"))\n",
    "summarize_text = []\n",
    "for i in range(n):\n",
    "      summarize_text.append(\" \".join(ranked_sentence[i][1]))\n"
   ]
  },
  {
   "cell_type": "markdown",
   "id": "c54aede2-ce30-42a7-92ae-28eb6334390f",
   "metadata": {},
   "source": [
    "## Finish off by printing summary"
   ]
  },
  {
   "cell_type": "code",
   "execution_count": 60,
   "id": "b738cc6e-b9cf-4f0f-a7b4-24feec3ded75",
   "metadata": {},
   "outputs": [
    {
     "name": "stdout",
     "output_type": "stream",
     "text": [
      "Summarize Text: \n",
      " It was the best of times. It was the age of wisdom. It was the age of foolishness\n"
     ]
    }
   ],
   "source": [
    "print(\"Summarize Text: \\n\", \". \".join(summarize_text))\n"
   ]
  },
  {
   "cell_type": "markdown",
   "id": "4bcff4b1-ec60-4267-b0c4-bd0cdb08a5a6",
   "metadata": {},
   "source": [
    "# Text 2"
   ]
  },
  {
   "cell_type": "markdown",
   "id": "e0373ddd-dbdd-497d-a9f0-32daf16a6e5d",
   "metadata": {},
   "source": [
    " ## Import needed modules"
   ]
  },
  {
   "cell_type": "code",
   "execution_count": 61,
   "id": "836eb58e-5d6f-42e3-a560-b84b8b9e88ec",
   "metadata": {},
   "outputs": [
    {
     "name": "stdout",
     "output_type": "stream",
     "text": [
      "I AM SAM\n",
      "I AM SAM\n",
      "SAM I AM\n",
      "THAT SAMIAM THAT SAMIAM\n",
      "I DO NOT LIKE THAT SAMIAM\n",
      "DO WOULD YOU LIKE GREEN EGGS AND HAM\n",
      "I DO NOT LIKE THEM SAMIAM\n",
      "I DO NOT LIKE GREEN EGGS AND HAM\n",
      "WOULD YOU LIKE THEM HERE OR THERE\n",
      "I WOULD NOT LIKE THEM HERE OR THERE\n",
      "I WOULD NOT LIKE THEM ANYWHERE\n",
      "I DO NOT LIKE GREEN EGGS AND HAM\n",
      "I DO NOT LIKE THEM SAMIAM\n",
      "WOULD YOU LIKE THEM IN A HOUSE\n",
      "WOULD YOU LIKE THEN WITH A MOUSE\n",
      "I DO NOT LIKE THEM IN A HOUSE\n",
      "I DO NOT LIKE THEM WITH A MOUSE\n",
      "I DO NOT LIKE THEM HERE OR THERE\n",
      "I DO NOT LIKE THEM ANYWHERE\n",
      "I DO NOT LIKE GREEN EGGS AND HAM\n",
      "I DO NOT LIKE THEM SAMIAM\n",
      "\n"
     ]
    }
   ],
   "source": [
    "from nltk.corpus import stopwords #you can remove stop words for speed\n",
    "from nltk.cluster.util import cosine_distance\n",
    "import numpy as np\n",
    "import networkx as nx\n",
    "import re\n",
    "\n",
    "file_path = \"C:/Users/dharm/Downloads/Text2.txt\"\n",
    "try:\n",
    "    with open(file_path, \"r\") as file:\n",
    "        # This file contains one paragraph of multiple sentences\n",
    "        filedata = file.readlines()\n",
    "        article = filedata[0].split(\". \")  # Just do the first paragraph\n",
    "\n",
    "        sentences = []\n",
    "        for sentence in article:\n",
    "            cleaned_sentence = re.sub(r'[^a-zA-Z\\s]', '', sentence)  # Use correct pattern for substitution\n",
    "            print(cleaned_sentence)\n",
    "            words = cleaned_sentence.split()\n",
    "            sentences.append(words)\n",
    "except FileNotFoundError:\n",
    "    print(f\"The file at the path {file_path} does not exist.\")\n"
   ]
  },
  {
   "cell_type": "code",
   "execution_count": 62,
   "id": "10a2b14d-c87d-4a25-a49c-4748a5754e3b",
   "metadata": {},
   "outputs": [
    {
     "name": "stdout",
     "output_type": "stream",
     "text": [
      "Sentences are  [['I', 'AM', 'SAM'], ['I', 'AM', 'SAM'], ['SAM', 'I', 'AM'], ['THAT', 'SAMIAM', 'THAT', 'SAMIAM'], ['I', 'DO', 'NOT', 'LIKE', 'THAT', 'SAMIAM'], ['DO', 'WOULD', 'YOU', 'LIKE', 'GREEN', 'EGGS', 'AND', 'HAM'], ['I', 'DO', 'NOT', 'LIKE', 'THEM', 'SAMIAM'], ['I', 'DO', 'NOT', 'LIKE', 'GREEN', 'EGGS', 'AND', 'HAM'], ['WOULD', 'YOU', 'LIKE', 'THEM', 'HERE', 'OR', 'THERE'], ['I', 'WOULD', 'NOT', 'LIKE', 'THEM', 'HERE', 'OR', 'THERE'], ['I', 'WOULD', 'NOT', 'LIKE', 'THEM', 'ANYWHERE'], ['I', 'DO', 'NOT', 'LIKE', 'GREEN', 'EGGS', 'AND', 'HAM'], ['I', 'DO', 'NOT', 'LIKE', 'THEM', 'SAMIAM'], ['WOULD', 'YOU', 'LIKE', 'THEM', 'IN', 'A', 'HOUSE'], ['WOULD', 'YOU', 'LIKE', 'THEN', 'WITH', 'A', 'MOUSE'], ['I', 'DO', 'NOT', 'LIKE', 'THEM', 'IN', 'A', 'HOUSE'], ['I', 'DO', 'NOT', 'LIKE', 'THEM', 'WITH', 'A', 'MOUSE'], ['I', 'DO', 'NOT', 'LIKE', 'THEM', 'HERE', 'OR', 'THERE'], ['I', 'DO', 'NOT', 'LIKE', 'THEM', 'ANYWHERE'], ['I', 'DO', 'NOT', 'LIKE', 'GREEN', 'EGGS', 'AND', 'HAM'], ['I', 'DO', 'NOT', 'LIKE', 'THEM', 'SAMIAM']]\n"
     ]
    }
   ],
   "source": [
    "print(\"Sentences are \", sentences)"
   ]
  },
  {
   "cell_type": "markdown",
   "id": "e7749931-4ebb-407a-9b40-5d1065e1b99e",
   "metadata": {},
   "source": [
    "## Function to calculate similarity "
   ]
  },
  {
   "cell_type": "code",
   "execution_count": 63,
   "id": "63f81357-83af-4920-bc0a-a2e29ae8f59d",
   "metadata": {},
   "outputs": [
    {
     "name": "stdout",
     "output_type": "stream",
     "text": [
      "Cosine Similarity between sentence 1 and sentence 2: 1.0000000000000002\n"
     ]
    }
   ],
   "source": [
    "import re\n",
    "from sklearn.metrics.pairwise import cosine_similarity\n",
    "\n",
    "def sentence_similarity(sent1, sent2):\n",
    "    sent1 = [w.lower() for w in sent1]\n",
    "    sent2 = [w.lower() for w in sent2]\n",
    "\n",
    "    all_words = list(set(sent1 + sent2))\n",
    "    vector1 = [0] * len(all_words)\n",
    "    vector2 = [0] * len(all_words)\n",
    "\n",
    "    # build the vector for the first sentence\n",
    "    for w in sent1:\n",
    "        vector1[all_words.index(w)] += 1\n",
    "\n",
    "    # build the vector for the second sentence\n",
    "    for w in sent2:\n",
    "        vector2[all_words.index(w)] += 1\n",
    "\n",
    "    # calculate cosine similarity using scikit-learn\n",
    "    vector1 = [vector1]\n",
    "    vector2 = [vector2]\n",
    "\n",
    "    similarity = cosine_similarity(vector1, vector2)[0][0]\n",
    "    return similarity\n",
    "\n",
    "file_path = \"C:/Users/dharm/Downloads/Text2.txt\"\n",
    "try:\n",
    "    with open(file_path, \"r\") as file:\n",
    "        # This file contains one paragraph of multiple sentences\n",
    "        filedata = file.readlines()\n",
    "        article = filedata[0].split(\". \")  # Just do the first paragraph\n",
    "\n",
    "        sentences = []\n",
    "        for sentence in article:\n",
    "            cleaned_sentence = re.sub(r'[^a-zA-Z\\s]', '', sentence.strip())  # Use correct pattern for substitution and strip trailing spaces\n",
    "            words = cleaned_sentence.split()\n",
    "            sentences.append(words)\n",
    "\n",
    "        # Example: Calculate similarity between the first two sentences\n",
    "        if len(sentences) >= 2:\n",
    "            similarity_score = sentence_similarity(sentences[0], sentences[1])\n",
    "            print(f\"Cosine Similarity between sentence 1 and sentence 2: {similarity_score}\")\n",
    "        else:\n",
    "            print(\"Insufficient number of sentences to compare.\")\n",
    "except FileNotFoundError:\n",
    "    print(f\"The file at the path {file_path} does not exist.\")\n"
   ]
  },
  {
   "cell_type": "markdown",
   "id": "66c192d3-a6df-42e3-8b42-fbe8e3e2aba9",
   "metadata": {},
   "source": [
    "## Create the similarity matrix"
   ]
  },
  {
   "cell_type": "code",
   "execution_count": 64,
   "id": "a991e2d6-c0bf-40eb-beb7-dfcc6246296e",
   "metadata": {},
   "outputs": [
    {
     "name": "stdout",
     "output_type": "stream",
     "text": [
      "Smilarity matrix \n",
      " [[0.         1.         1.         0.         0.23570226 0.\n",
      "  0.23570226 0.20412415 0.         0.20412415 0.23570226 0.20412415\n",
      "  0.23570226 0.         0.         0.20412415 0.20412415 0.20412415\n",
      "  0.23570226 0.20412415 0.23570226]\n",
      " [1.         0.         1.         0.         0.23570226 0.\n",
      "  0.23570226 0.20412415 0.         0.20412415 0.23570226 0.20412415\n",
      "  0.23570226 0.         0.         0.20412415 0.20412415 0.20412415\n",
      "  0.23570226 0.20412415 0.23570226]\n",
      " [1.         1.         0.         0.         0.23570226 0.\n",
      "  0.23570226 0.20412415 0.         0.20412415 0.23570226 0.20412415\n",
      "  0.23570226 0.         0.         0.20412415 0.20412415 0.20412415\n",
      "  0.23570226 0.20412415 0.23570226]\n",
      " [0.         0.         0.         0.         0.57735027 0.\n",
      "  0.28867513 0.         0.         0.         0.         0.\n",
      "  0.28867513 0.         0.         0.         0.         0.\n",
      "  0.         0.         0.28867513]\n",
      " [0.23570226 0.23570226 0.23570226 0.57735027 0.         0.28867513\n",
      "  0.83333333 0.57735027 0.15430335 0.4330127  0.5        0.57735027\n",
      "  0.83333333 0.15430335 0.15430335 0.57735027 0.57735027 0.57735027\n",
      "  0.66666667 0.57735027 0.83333333]\n",
      " [0.         0.         0.         0.         0.28867513 0.\n",
      "  0.28867513 0.75       0.40089186 0.25       0.28867513 0.75\n",
      "  0.28867513 0.40089186 0.40089186 0.25       0.25       0.25\n",
      "  0.28867513 0.75       0.28867513]\n",
      " [0.23570226 0.23570226 0.23570226 0.28867513 0.83333333 0.28867513\n",
      "  0.         0.57735027 0.3086067  0.57735027 0.66666667 0.57735027\n",
      "  1.         0.3086067  0.15430335 0.72168784 0.72168784 0.72168784\n",
      "  0.83333333 0.57735027 1.        ]\n",
      " [0.20412415 0.20412415 0.20412415 0.         0.57735027 0.75\n",
      "  0.57735027 0.         0.13363062 0.375      0.4330127  1.\n",
      "  0.57735027 0.13363062 0.13363062 0.5        0.5        0.5\n",
      "  0.57735027 1.         0.57735027]\n",
      " [0.         0.         0.         0.         0.15430335 0.40089186\n",
      "  0.3086067  0.13363062 0.         0.80178373 0.46291005 0.13363062\n",
      "  0.3086067  0.57142857 0.42857143 0.26726124 0.26726124 0.6681531\n",
      "  0.3086067  0.13363062 0.3086067 ]\n",
      " [0.20412415 0.20412415 0.20412415 0.         0.4330127  0.25\n",
      "  0.57735027 0.375      0.80178373 0.         0.72168784 0.375\n",
      "  0.57735027 0.40089186 0.26726124 0.5        0.5        0.875\n",
      "  0.57735027 0.375      0.57735027]\n",
      " [0.23570226 0.23570226 0.23570226 0.         0.5        0.28867513\n",
      "  0.66666667 0.4330127  0.46291005 0.72168784 0.         0.4330127\n",
      "  0.66666667 0.46291005 0.3086067  0.57735027 0.57735027 0.57735027\n",
      "  0.83333333 0.4330127  0.66666667]\n",
      " [0.20412415 0.20412415 0.20412415 0.         0.57735027 0.75\n",
      "  0.57735027 1.         0.13363062 0.375      0.4330127  0.\n",
      "  0.57735027 0.13363062 0.13363062 0.5        0.5        0.5\n",
      "  0.57735027 1.         0.57735027]\n",
      " [0.23570226 0.23570226 0.23570226 0.28867513 0.83333333 0.28867513\n",
      "  1.         0.57735027 0.3086067  0.57735027 0.66666667 0.57735027\n",
      "  0.         0.3086067  0.15430335 0.72168784 0.72168784 0.72168784\n",
      "  0.83333333 0.57735027 1.        ]\n",
      " [0.         0.         0.         0.         0.15430335 0.40089186\n",
      "  0.3086067  0.13363062 0.57142857 0.40089186 0.46291005 0.13363062\n",
      "  0.3086067  0.         0.57142857 0.6681531  0.40089186 0.26726124\n",
      "  0.3086067  0.13363062 0.3086067 ]\n",
      " [0.         0.         0.         0.         0.15430335 0.40089186\n",
      "  0.15430335 0.13363062 0.42857143 0.26726124 0.3086067  0.13363062\n",
      "  0.15430335 0.57142857 0.         0.26726124 0.53452248 0.13363062\n",
      "  0.15430335 0.13363062 0.15430335]\n",
      " [0.20412415 0.20412415 0.20412415 0.         0.57735027 0.25\n",
      "  0.72168784 0.5        0.26726124 0.5        0.57735027 0.5\n",
      "  0.72168784 0.6681531  0.26726124 0.         0.75       0.625\n",
      "  0.72168784 0.5        0.72168784]\n",
      " [0.20412415 0.20412415 0.20412415 0.         0.57735027 0.25\n",
      "  0.72168784 0.5        0.26726124 0.5        0.57735027 0.5\n",
      "  0.72168784 0.40089186 0.53452248 0.75       0.         0.625\n",
      "  0.72168784 0.5        0.72168784]\n",
      " [0.20412415 0.20412415 0.20412415 0.         0.57735027 0.25\n",
      "  0.72168784 0.5        0.6681531  0.875      0.57735027 0.5\n",
      "  0.72168784 0.26726124 0.13363062 0.625      0.625      0.\n",
      "  0.72168784 0.5        0.72168784]\n",
      " [0.23570226 0.23570226 0.23570226 0.         0.66666667 0.28867513\n",
      "  0.83333333 0.57735027 0.3086067  0.57735027 0.83333333 0.57735027\n",
      "  0.83333333 0.3086067  0.15430335 0.72168784 0.72168784 0.72168784\n",
      "  0.         0.57735027 0.83333333]\n",
      " [0.20412415 0.20412415 0.20412415 0.         0.57735027 0.75\n",
      "  0.57735027 1.         0.13363062 0.375      0.4330127  1.\n",
      "  0.57735027 0.13363062 0.13363062 0.5        0.5        0.5\n",
      "  0.57735027 0.         0.57735027]\n",
      " [0.23570226 0.23570226 0.23570226 0.28867513 0.83333333 0.28867513\n",
      "  1.         0.57735027 0.3086067  0.57735027 0.66666667 0.57735027\n",
      "  1.         0.3086067  0.15430335 0.72168784 0.72168784 0.72168784\n",
      "  0.83333333 0.57735027 0.        ]]\n"
     ]
    }
   ],
   "source": [
    "similarity_matrix = np.zeros((len(sentences), len(sentences)))\n",
    " \n",
    "for idx1 in range(len(sentences)):\n",
    "        for idx2 in range(len(sentences)):\n",
    "             if idx1 == idx2: #ignore if both are same sentences\n",
    "                continue \n",
    "             similarity_matrix[idx1][idx2] = sentence_similarity(sentences[idx1], sentences[idx2])\n",
    "\n",
    "print(\"Smilarity matrix \\n\", similarity_matrix)\n"
   ]
  },
  {
   "cell_type": "markdown",
   "id": "73774afc-f059-4059-9f40-7e8e1c22de65",
   "metadata": {},
   "source": [
    "##  Rank sentences in similarity martix"
   ]
  },
  {
   "cell_type": "code",
   "execution_count": 65,
   "id": "aeccd002-d718-4372-b7a3-9455acd0291e",
   "metadata": {},
   "outputs": [
    {
     "name": "stdout",
     "output_type": "stream",
     "text": [
      "scores {0: 0.03308312400488357, 1: 0.03308312400488357, 2: 0.03308312400488357, 3: 0.014456774580456112, 4: 0.05832025306384834, 5: 0.03903043911745061, 6: 0.06394041737274968, 7: 0.053229539247582475, 8: 0.03641632888022492, 9: 0.05272552539696913, 10: 0.05536907366182742, 11: 0.053229539247582475, 12: 0.06394041737274968, 13: 0.03587343916394799, 14: 0.02831813439438409, 15: 0.05610625806476913, 16: 0.056202031334573806, 17: 0.05659476277466124, 18: 0.05982773769124007, 19: 0.05322953924758248, 20: 0.06394041737274968}\n"
     ]
    }
   ],
   "source": [
    "sentence_similarity_graph = nx.from_numpy_array(similarity_matrix)\n",
    "scores = nx.pagerank(sentence_similarity_graph)\n",
    "print(\"scores\", scores)"
   ]
  },
  {
   "cell_type": "markdown",
   "id": "66d1aee7-8391-4bef-b3b4-94cee6dfdd53",
   "metadata": {},
   "source": [
    "## Sort sentences by pagerank"
   ]
  },
  {
   "cell_type": "code",
   "execution_count": 66,
   "id": "fbbdacf3-ca36-4680-bf2d-802839948fa4",
   "metadata": {},
   "outputs": [
    {
     "name": "stdout",
     "output_type": "stream",
     "text": [
      "Indexes of top ranked_sentence order are \n",
      "\n",
      " [(0.06394041737274968, ['I', 'DO', 'NOT', 'LIKE', 'THEM', 'SAMIAM']), (0.06394041737274968, ['I', 'DO', 'NOT', 'LIKE', 'THEM', 'SAMIAM']), (0.06394041737274968, ['I', 'DO', 'NOT', 'LIKE', 'THEM', 'SAMIAM']), (0.05982773769124007, ['I', 'DO', 'NOT', 'LIKE', 'THEM', 'ANYWHERE']), (0.05832025306384834, ['I', 'DO', 'NOT', 'LIKE', 'THAT', 'SAMIAM']), (0.05659476277466124, ['I', 'DO', 'NOT', 'LIKE', 'THEM', 'HERE', 'OR', 'THERE']), (0.056202031334573806, ['I', 'DO', 'NOT', 'LIKE', 'THEM', 'WITH', 'A', 'MOUSE']), (0.05610625806476913, ['I', 'DO', 'NOT', 'LIKE', 'THEM', 'IN', 'A', 'HOUSE']), (0.05536907366182742, ['I', 'WOULD', 'NOT', 'LIKE', 'THEM', 'ANYWHERE']), (0.05322953924758248, ['I', 'DO', 'NOT', 'LIKE', 'GREEN', 'EGGS', 'AND', 'HAM']), (0.053229539247582475, ['I', 'DO', 'NOT', 'LIKE', 'GREEN', 'EGGS', 'AND', 'HAM']), (0.053229539247582475, ['I', 'DO', 'NOT', 'LIKE', 'GREEN', 'EGGS', 'AND', 'HAM']), (0.05272552539696913, ['I', 'WOULD', 'NOT', 'LIKE', 'THEM', 'HERE', 'OR', 'THERE']), (0.03903043911745061, ['DO', 'WOULD', 'YOU', 'LIKE', 'GREEN', 'EGGS', 'AND', 'HAM']), (0.03641632888022492, ['WOULD', 'YOU', 'LIKE', 'THEM', 'HERE', 'OR', 'THERE']), (0.03587343916394799, ['WOULD', 'YOU', 'LIKE', 'THEM', 'IN', 'A', 'HOUSE']), (0.03308312400488357, ['SAM', 'I', 'AM']), (0.03308312400488357, ['I', 'AM', 'SAM']), (0.03308312400488357, ['I', 'AM', 'SAM']), (0.02831813439438409, ['WOULD', 'YOU', 'LIKE', 'THEN', 'WITH', 'A', 'MOUSE']), (0.014456774580456112, ['THAT', 'SAMIAM', 'THAT', 'SAMIAM'])]\n"
     ]
    }
   ],
   "source": [
    "ranked_sentence = sorted(((scores[i],s) for i,s in enumerate(sentences)), reverse=True)    \n",
    "print(\"Indexes of top ranked_sentence order are \\n\\n\", ranked_sentence)\n"
   ]
  },
  {
   "cell_type": "markdown",
   "id": "d0cf84af-1d1b-400c-a8ae-94e9fe1b59a3",
   "metadata": {},
   "source": [
    "## Pick the top “n” sentences"
   ]
  },
  {
   "cell_type": "code",
   "execution_count": 67,
   "id": "c9bea8d0-f682-4e79-9807-b351d6cca036",
   "metadata": {},
   "outputs": [
    {
     "name": "stdout",
     "output_type": "stream",
     "text": [
      "How many sentences do you want in the summary? 3\n"
     ]
    }
   ],
   "source": [
    "n = int(input(\"How many sentences do you want in the summary? \"))\n",
    "#n=2\n",
    "summarize_text = []\n",
    "for i in range(n):\n",
    "      summarize_text.append(\" \".join(ranked_sentence[i][1]))\n"
   ]
  },
  {
   "cell_type": "markdown",
   "id": "43d34775-04d4-406d-8dd6-5bd8530392c5",
   "metadata": {},
   "source": [
    "##  Finish off by printing summary"
   ]
  },
  {
   "cell_type": "code",
   "execution_count": 68,
   "id": "16c5d3fd-f802-4d83-8447-6f95d3dccc9d",
   "metadata": {},
   "outputs": [
    {
     "name": "stdout",
     "output_type": "stream",
     "text": [
      "Summarize Text: \n",
      " I DO NOT LIKE THEM SAMIAM. I DO NOT LIKE THEM SAMIAM. I DO NOT LIKE THEM SAMIAM\n"
     ]
    }
   ],
   "source": [
    "print(\"Summarize Text: \\n\", \". \".join(summarize_text))"
   ]
  },
  {
   "cell_type": "markdown",
   "id": "aa9a44ad-8ca6-46df-afb1-ccc0c3b37371",
   "metadata": {},
   "source": [
    "# Text 3"
   ]
  },
  {
   "cell_type": "markdown",
   "id": "eb25b1ba-05cf-4996-917d-45cef8ac8494",
   "metadata": {},
   "source": [
    "## Import needed modules"
   ]
  },
  {
   "cell_type": "code",
   "execution_count": 69,
   "id": "8013cb19-9853-4d62-9728-ee901eaabcb9",
   "metadata": {},
   "outputs": [
    {
     "name": "stdout",
     "output_type": "stream",
     "text": [
      "As an institution of higher learning Sacred Heart University places special emphasis on academic integrity which is a commitment to the fundamental values of honesty trust fairness respect and responsibility\n",
      "Only when these values are widely respected and practiced by all members of the University students faculty administrators and staff can the University maintain a culture that promotes free exploration of knowledge constructive debate genuine learning effective research fair assessment of student progress and development of members characters\n",
      "These aims of the University require that its members exercise mutual responsibilities\n",
      "At its core academic integrity is secured by a principled commitment to carry out these responsibilities not by rules and penalties\n",
      "Students and faculty should strive to create an academic environment that is honest fair and respectful of all\n",
      "They do this by evaluating others work fairly by responding to others ideas critically yet courteously by respecting others intellectual and physical property and by nurturing the values of academic integrity in all contexts of University life\n",
      "Appropriate disciplinary action will be taken for violations of academic integrity including plagiarism cheating any use of materials for an assignment or exam that is not permitted by the instructor and theft or mutilation of intellectual materials or other University equipment\n",
      "Faculty will assign failing grades for violations of the University policy on academic integrity and students may immediately receive an F for a course in which they commit a violation\n",
      "Violations of academic integrity are kept on file second violations will bring additional sanctions up to dismissal from the University\n",
      "For any disciplinary action the University affords the student the right of due process in an appeals procedure\n",
      "All matriculated students will be provided with a full description of the University standards for academic integrity consequences for violations and the appeals procedure\n"
     ]
    }
   ],
   "source": [
    "from nltk.corpus import stopwords #you can remove stop words for speed\n",
    "from nltk.cluster.util import cosine_distance\n",
    "import numpy as np\n",
    "import networkx as nx\n",
    "import re\n",
    "\n",
    "file_path = \"C:/Users/dharm/Downloads/Text3.txt\"\n",
    "try:\n",
    "    with open(file_path, \"r\") as file:\n",
    "        # This file contains one paragraph of multiple sentences\n",
    "        filedata = file.readlines()\n",
    "        article = filedata[0].split(\". \")  # Just do the first paragraph\n",
    "\n",
    "        sentences = []\n",
    "        for sentence in article:\n",
    "            cleaned_sentence = re.sub(r'[^a-zA-Z\\s]', '', sentence)  # Use correct pattern for substitution\n",
    "            print(cleaned_sentence)\n",
    "            words = cleaned_sentence.split()\n",
    "            sentences.append(words)\n",
    "except FileNotFoundError:\n",
    "    print(f\"The file at the path {file_path} does not exist.\")\n"
   ]
  },
  {
   "cell_type": "markdown",
   "id": "fd8c69ff-48cb-4e7c-8d9b-7dc8bbaf0f7e",
   "metadata": {},
   "source": [
    "## Function to calculate similarity "
   ]
  },
  {
   "cell_type": "code",
   "execution_count": 70,
   "id": "5a645602-5b0e-4d40-a71d-f0beafe78512",
   "metadata": {},
   "outputs": [
    {
     "name": "stdout",
     "output_type": "stream",
     "text": [
      "Cosine Similarity between sentence 1 and sentence 2: 0.375\n"
     ]
    }
   ],
   "source": [
    "import re\n",
    "from sklearn.metrics.pairwise import cosine_similarity\n",
    "\n",
    "def sentence_similarity(sent1, sent2):\n",
    "    sent1 = [w.lower() for w in sent1]\n",
    "    sent2 = [w.lower() for w in sent2]\n",
    "\n",
    "    all_words = list(set(sent1 + sent2))\n",
    "    vector1 = [0] * len(all_words)\n",
    "    vector2 = [0] * len(all_words)\n",
    "\n",
    "    # build the vector for the first sentence\n",
    "    for w in sent1:\n",
    "        vector1[all_words.index(w)] += 1\n",
    "\n",
    "    # build the vector for the second sentence\n",
    "    for w in sent2:\n",
    "        vector2[all_words.index(w)] += 1\n",
    "\n",
    "    # calculate cosine similarity using scikit-learn\n",
    "    vector1 = [vector1]\n",
    "    vector2 = [vector2]\n",
    "\n",
    "    similarity = cosine_similarity(vector1, vector2)[0][0]\n",
    "    return similarity\n",
    "\n",
    "file_path = \"C:/Users/dharm/Downloads/Text3.txt\"\n",
    "try:\n",
    "    with open(file_path, \"r\") as file:\n",
    "        # This file contains one paragraph of multiple sentences\n",
    "        filedata = file.readlines()\n",
    "        article = filedata[0].split(\". \")  # Just do the first paragraph\n",
    "\n",
    "        sentences = []\n",
    "        for sentence in article:\n",
    "            cleaned_sentence = re.sub(r'[^a-zA-Z\\s]', '', sentence.strip())  # Use correct pattern for substitution and strip trailing spaces\n",
    "            words = cleaned_sentence.split()\n",
    "            sentences.append(words)\n",
    "\n",
    "        # Example: Calculate similarity between the first two sentences\n",
    "        if len(sentences) >= 2:\n",
    "            similarity_score = sentence_similarity(sentences[0], sentences[1])\n",
    "            print(f\"Cosine Similarity between sentence 1 and sentence 2: {similarity_score}\")\n",
    "        else:\n",
    "            print(\"Insufficient number of sentences to compare.\")\n",
    "except FileNotFoundError:\n",
    "    print(f\"The file at the path {file_path} does not exist.\")\n"
   ]
  },
  {
   "cell_type": "markdown",
   "id": "7aa20f1b-8469-44f2-9b25-2cd22768992b",
   "metadata": {},
   "source": [
    "## Create the similarity matrix"
   ]
  },
  {
   "cell_type": "code",
   "execution_count": 71,
   "id": "65595f70-8210-4b27-9403-9abb4acde665",
   "metadata": {},
   "outputs": [
    {
     "name": "stdout",
     "output_type": "stream",
     "text": [
      "Smilarity matrix \n",
      " [[0.         0.375      0.20412415 0.25802342 0.31622777 0.27617239\n",
      "  0.30439039 0.36380344 0.30151134 0.25259074 0.3006689 ]\n",
      " [0.375      0.         0.40824829 0.17201562 0.39528471 0.36822985\n",
      "  0.32780503 0.30316953 0.22613351 0.3127314  0.35634832]\n",
      " [0.20412415 0.40824829 0.         0.18057878 0.12909944 0.15032921\n",
      "  0.22941573 0.14852213 0.18463724 0.29462783 0.21821789]\n",
      " [0.25802342 0.17201562 0.18057878 0.         0.2331262  0.35290144\n",
      "  0.19332886 0.17879963 0.13336627 0.         0.15762208]\n",
      " [0.31622777 0.39528471 0.12909944 0.2331262  0.         0.26200013\n",
      "  0.26655699 0.26843775 0.14301939 0.09128709 0.25354628]\n",
      " [0.27617239 0.36822985 0.15032921 0.35290144 0.26200013 0.\n",
      "  0.29314702 0.22327214 0.19429458 0.1860229  0.24603392]\n",
      " [0.30439039 0.32780503 0.22941573 0.19332886 0.26655699 0.29314702\n",
      "  0.         0.34073314 0.28239125 0.35147975 0.40050094]\n",
      " [0.36380344 0.30316953 0.14852213 0.17879963 0.26843775 0.22327214\n",
      "  0.34073314 0.         0.32907259 0.31506302 0.51856298]\n",
      " [0.30151134 0.22613351 0.18463724 0.13336627 0.14301939 0.19429458\n",
      "  0.28239125 0.32907259 0.         0.21759707 0.36262033]\n",
      " [0.25259074 0.3127314  0.29462783 0.         0.09128709 0.1860229\n",
      "  0.35147975 0.31506302 0.21759707 0.         0.46291005]\n",
      " [0.3006689  0.35634832 0.21821789 0.15762208 0.25354628 0.24603392\n",
      "  0.40050094 0.51856298 0.36262033 0.46291005 0.        ]]\n"
     ]
    }
   ],
   "source": [
    "similarity_matrix = np.zeros((len(sentences), len(sentences)))\n",
    " \n",
    "for idx1 in range(len(sentences)):\n",
    "        for idx2 in range(len(sentences)):\n",
    "             if idx1 == idx2: #ignore if both are same sentences\n",
    "                continue \n",
    "             similarity_matrix[idx1][idx2] = sentence_similarity(sentences[idx1], sentences[idx2])\n",
    "\n",
    "print(\"Smilarity matrix \\n\", similarity_matrix)\n"
   ]
  },
  {
   "cell_type": "markdown",
   "id": "ccffa06e-e417-4786-bd57-49cdb2a9d5af",
   "metadata": {},
   "source": [
    "##  Rank sentences in similarity martix"
   ]
  },
  {
   "cell_type": "code",
   "execution_count": 72,
   "id": "66b9fa65-b31f-4874-bce1-1bd779e9a9b3",
   "metadata": {},
   "outputs": [
    {
     "name": "stdout",
     "output_type": "stream",
     "text": [
      "scores {0: 0.09974619687692798, 1: 0.10842460280752604, 2: 0.07594356350160537, 3: 0.06764684752631868, 4: 0.0820796092647837, 5: 0.08810310346484976, 6: 0.10070867507209398, 7: 0.10051119048063473, 8: 0.08242290196194547, 9: 0.08536568598624514, 10: 0.10904762305706923}\n"
     ]
    }
   ],
   "source": [
    "sentence_similarity_graph = nx.from_numpy_array(similarity_matrix)\n",
    "scores = nx.pagerank(sentence_similarity_graph)\n",
    "print(\"scores\", scores)"
   ]
  },
  {
   "cell_type": "markdown",
   "id": "6f856558-1c44-4914-aa06-008e380d1855",
   "metadata": {},
   "source": [
    "## Sort sentences by pagerank"
   ]
  },
  {
   "cell_type": "code",
   "execution_count": 73,
   "id": "38ee7d75-0b49-4224-b829-2eb863bc2cd8",
   "metadata": {},
   "outputs": [
    {
     "name": "stdout",
     "output_type": "stream",
     "text": [
      "Indexes of top ranked_sentence order are \n",
      "\n",
      " [(0.10904762305706923, ['All', 'matriculated', 'students', 'will', 'be', 'provided', 'with', 'a', 'full', 'description', 'of', 'the', 'University', 'standards', 'for', 'academic', 'integrity', 'consequences', 'for', 'violations', 'and', 'the', 'appeals', 'procedure']), (0.10842460280752604, ['Only', 'when', 'these', 'values', 'are', 'widely', 'respected', 'and', 'practiced', 'by', 'all', 'members', 'of', 'the', 'University', 'students', 'faculty', 'administrators', 'and', 'staff', 'can', 'the', 'University', 'maintain', 'a', 'culture', 'that', 'promotes', 'free', 'exploration', 'of', 'knowledge', 'constructive', 'debate', 'genuine', 'learning', 'effective', 'research', 'fair', 'assessment', 'of', 'student', 'progress', 'and', 'development', 'of', 'members', 'characters']), (0.10070867507209398, ['Appropriate', 'disciplinary', 'action', 'will', 'be', 'taken', 'for', 'violations', 'of', 'academic', 'integrity', 'including', 'plagiarism', 'cheating', 'any', 'use', 'of', 'materials', 'for', 'an', 'assignment', 'or', 'exam', 'that', 'is', 'not', 'permitted', 'by', 'the', 'instructor', 'and', 'theft', 'or', 'mutilation', 'of', 'intellectual', 'materials', 'or', 'other', 'University', 'equipment']), (0.10051119048063473, ['Faculty', 'will', 'assign', 'failing', 'grades', 'for', 'violations', 'of', 'the', 'University', 'policy', 'on', 'academic', 'integrity', 'and', 'students', 'may', 'immediately', 'receive', 'an', 'F', 'for', 'a', 'course', 'in', 'which', 'they', 'commit', 'a', 'violation']), (0.09974619687692798, ['As', 'an', 'institution', 'of', 'higher', 'learning', 'Sacred', 'Heart', 'University', 'places', 'special', 'emphasis', 'on', 'academic', 'integrity', 'which', 'is', 'a', 'commitment', 'to', 'the', 'fundamental', 'values', 'of', 'honesty', 'trust', 'fairness', 'respect', 'and', 'responsibility']), (0.08810310346484976, ['They', 'do', 'this', 'by', 'evaluating', 'others', 'work', 'fairly', 'by', 'responding', 'to', 'others', 'ideas', 'critically', 'yet', 'courteously', 'by', 'respecting', 'others', 'intellectual', 'and', 'physical', 'property', 'and', 'by', 'nurturing', 'the', 'values', 'of', 'academic', 'integrity', 'in', 'all', 'contexts', 'of', 'University', 'life']), (0.08536568598624514, ['For', 'any', 'disciplinary', 'action', 'the', 'University', 'affords', 'the', 'student', 'the', 'right', 'of', 'due', 'process', 'in', 'an', 'appeals', 'procedure']), (0.08242290196194547, ['Violations', 'of', 'academic', 'integrity', 'are', 'kept', 'on', 'file', 'second', 'violations', 'will', 'bring', 'additional', 'sanctions', 'up', 'to', 'dismissal', 'from', 'the', 'University']), (0.0820796092647837, ['Students', 'and', 'faculty', 'should', 'strive', 'to', 'create', 'an', 'academic', 'environment', 'that', 'is', 'honest', 'fair', 'and', 'respectful', 'of', 'all']), (0.07594356350160537, ['These', 'aims', 'of', 'the', 'University', 'require', 'that', 'its', 'members', 'exercise', 'mutual', 'responsibilities']), (0.06764684752631868, ['At', 'its', 'core', 'academic', 'integrity', 'is', 'secured', 'by', 'a', 'principled', 'commitment', 'to', 'carry', 'out', 'these', 'responsibilities', 'not', 'by', 'rules', 'and', 'penalties'])]\n"
     ]
    }
   ],
   "source": [
    "ranked_sentence = sorted(((scores[i],s) for i,s in enumerate(sentences)), reverse=True)    \n",
    "print(\"Indexes of top ranked_sentence order are \\n\\n\", ranked_sentence)\n"
   ]
  },
  {
   "cell_type": "markdown",
   "id": "c41c3df1-f580-49bf-a2b2-f62df0283578",
   "metadata": {},
   "source": [
    "## Pick the top “n” sentences"
   ]
  },
  {
   "cell_type": "code",
   "execution_count": 90,
   "id": "a3b0861b-900d-440d-8ff6-19c805853f64",
   "metadata": {},
   "outputs": [
    {
     "name": "stdout",
     "output_type": "stream",
     "text": [
      "How many sentences do you want in the summary? 3\n"
     ]
    }
   ],
   "source": [
    "n = int(input(\"How many sentences do you want in the summary? \"))\n",
    "summarize_text = []\n",
    "for i in range(n):\n",
    "      summarize_text.append(\" \".join(ranked_sentence[i][1]))\n"
   ]
  },
  {
   "cell_type": "markdown",
   "id": "34ad9681-9666-447d-ae3a-4f9fb3d42b5f",
   "metadata": {},
   "source": [
    "## Finish off by printing summary"
   ]
  },
  {
   "cell_type": "code",
   "execution_count": 75,
   "id": "1af4355c-b850-48da-9ec4-1d2f3e73d615",
   "metadata": {},
   "outputs": [
    {
     "name": "stdout",
     "output_type": "stream",
     "text": [
      "Summarize Text: \n",
      " All matriculated students will be provided with a full description of the University standards for academic integrity consequences for violations and the appeals procedure. Only when these values are widely respected and practiced by all members of the University students faculty administrators and staff can the University maintain a culture that promotes free exploration of knowledge constructive debate genuine learning effective research fair assessment of student progress and development of members characters. Appropriate disciplinary action will be taken for violations of academic integrity including plagiarism cheating any use of materials for an assignment or exam that is not permitted by the instructor and theft or mutilation of intellectual materials or other University equipment\n"
     ]
    }
   ],
   "source": [
    "print(\"Summarize Text: \\n\", \". \".join(summarize_text))"
   ]
  },
  {
   "cell_type": "markdown",
   "id": "c9429d66-5872-4364-909e-42ca311a604f",
   "metadata": {},
   "source": [
    "# Text 4"
   ]
  },
  {
   "cell_type": "markdown",
   "id": "cf4b8afd-95b1-43ed-b4fe-e7df9a0718f8",
   "metadata": {},
   "source": [
    "## Import needed modules"
   ]
  },
  {
   "cell_type": "code",
   "execution_count": 76,
   "id": "ebca4097-59a9-455d-a2a3-54d1a513296e",
   "metadata": {},
   "outputs": [
    {
     "name": "stdout",
     "output_type": "stream",
     "text": [
      "Imagine theres no heaven\n",
      "Its easy if you try\n",
      "No hell below us\n",
      "Above us only sky\n",
      "Imagine all the people livin for today\n",
      "Imagine theres no countries\n",
      "It isnt hard to do\n",
      "Nothing to kill or die for and no religion too\n",
      "Imagine all the people livin life in peace\n",
      "You may say Im a dreamer but Im not the only one\n",
      "I hope someday youll join us and the world will be as one\n",
      "Imagine no possessions\n",
      "I wonder if you can\n",
      "No need for greed or hunger\n",
      "A brotherhood of man\n",
      "Imagine all the people sharing all the world\n",
      "\n",
      "\n"
     ]
    }
   ],
   "source": [
    "from nltk.corpus import stopwords #you can remove stop words for speed\n",
    "from nltk.cluster.util import cosine_distance\n",
    "import numpy as np\n",
    "import networkx as nx\n",
    "import re\n",
    "\n",
    "file_path = \"C:/Users/dharm/Downloads/Text4.txt\"\n",
    "try:\n",
    "    with open(file_path, \"r\") as file:\n",
    "        # This file contains one paragraph of multiple sentences\n",
    "        filedata = file.readlines()\n",
    "        article = filedata[0].split(\". \")  # Just do the first paragraph\n",
    "\n",
    "        sentences = []\n",
    "        for sentence in article:\n",
    "            cleaned_sentence = re.sub(r'[^a-zA-Z\\s]', '', sentence)  # Use correct pattern for substitution\n",
    "            print(cleaned_sentence)\n",
    "            words = cleaned_sentence.split()\n",
    "            sentences.append(words)\n",
    "except FileNotFoundError:\n",
    "    print(f\"The file at the path {file_path} does not exist.\")\n"
   ]
  },
  {
   "cell_type": "markdown",
   "id": "295c42ce-dfd7-4e94-8d95-f1ded4adad46",
   "metadata": {},
   "source": [
    "## Function to calculate similarity "
   ]
  },
  {
   "cell_type": "code",
   "execution_count": 77,
   "id": "cd7ed4a4-e05b-4717-b2ab-ad884bb5e110",
   "metadata": {},
   "outputs": [
    {
     "name": "stdout",
     "output_type": "stream",
     "text": [
      "Cosine Similarity between sentence 1 and sentence 2: 0.0\n"
     ]
    }
   ],
   "source": [
    "import re\n",
    "from sklearn.metrics.pairwise import cosine_similarity\n",
    "\n",
    "def sentence_similarity(sent1, sent2):\n",
    "    sent1 = [w.lower() for w in sent1]\n",
    "    sent2 = [w.lower() for w in sent2]\n",
    "\n",
    "    all_words = list(set(sent1 + sent2))\n",
    "    vector1 = [0] * len(all_words)\n",
    "    vector2 = [0] * len(all_words)\n",
    "\n",
    "    # build the vector for the first sentence\n",
    "    for w in sent1:\n",
    "        vector1[all_words.index(w)] += 1\n",
    "\n",
    "    # build the vector for the second sentence\n",
    "    for w in sent2:\n",
    "        vector2[all_words.index(w)] += 1\n",
    "\n",
    "    # calculate cosine similarity using scikit-learn\n",
    "    vector1 = [vector1]\n",
    "    vector2 = [vector2]\n",
    "\n",
    "    similarity = cosine_similarity(vector1, vector2)[0][0]\n",
    "    return similarity\n",
    "\n",
    "file_path = \"C:/Users/dharm/Downloads/Text4.txt\"\n",
    "try:\n",
    "    with open(file_path, \"r\") as file:\n",
    "        # This file contains one paragraph of multiple sentences\n",
    "        filedata = file.readlines()\n",
    "        article = filedata[0].split(\". \")  # Just do the first paragraph\n",
    "\n",
    "        sentences = []\n",
    "        for sentence in article:\n",
    "            cleaned_sentence = re.sub(r'[^a-zA-Z\\s]', '', sentence.strip())  # Use correct pattern for substitution and strip trailing spaces\n",
    "            words = cleaned_sentence.split()\n",
    "            sentences.append(words)\n",
    "\n",
    "        # Example: Calculate similarity between the first two sentences\n",
    "        if len(sentences) >= 2:\n",
    "            similarity_score = sentence_similarity(sentences[0], sentences[1])\n",
    "            print(f\"Cosine Similarity between sentence 1 and sentence 2: {similarity_score}\")\n",
    "        else:\n",
    "            print(\"Insufficient number of sentences to compare.\")\n",
    "except FileNotFoundError:\n",
    "    print(f\"The file at the path {file_path} does not exist.\")\n"
   ]
  },
  {
   "cell_type": "markdown",
   "id": "b845d2f8-509d-4f0f-965f-600b17a4dcc1",
   "metadata": {},
   "source": [
    "## Create the similarity matrix"
   ]
  },
  {
   "cell_type": "code",
   "execution_count": 78,
   "id": "b3ca0e48-fde9-42a6-9d7b-056eb0c6eb04",
   "metadata": {},
   "outputs": [
    {
     "name": "stdout",
     "output_type": "stream",
     "text": [
      "Smilarity matrix \n",
      " [[0.         0.         0.25       0.         0.18898224 0.75\n",
      "  0.         0.15811388 0.1767767  0.         0.         0.57735027\n",
      "  0.         0.20412415 0.         0.14433757 0.        ]\n",
      " [0.         0.         0.         0.         0.         0.\n",
      "  0.         0.         0.         0.11952286 0.         0.\n",
      "  0.4        0.         0.         0.         0.        ]\n",
      " [0.25       0.         0.         0.25       0.         0.25\n",
      "  0.         0.15811388 0.         0.         0.13867505 0.28867513\n",
      "  0.         0.20412415 0.         0.         0.        ]\n",
      " [0.         0.         0.25       0.         0.         0.\n",
      "  0.         0.         0.         0.13363062 0.13867505 0.\n",
      "  0.         0.         0.         0.         0.        ]\n",
      " [0.18898224 0.         0.         0.         0.         0.18898224\n",
      "  0.         0.11952286 0.6681531  0.10101525 0.10482848 0.21821789\n",
      "  0.         0.15430335 0.         0.65465367 0.        ]\n",
      " [0.75       0.         0.25       0.         0.18898224 0.\n",
      "  0.         0.15811388 0.1767767  0.         0.         0.57735027\n",
      "  0.         0.20412415 0.         0.14433757 0.        ]\n",
      " [0.         0.         0.         0.         0.         0.\n",
      "  0.         0.14142136 0.         0.         0.         0.\n",
      "  0.         0.         0.         0.         0.        ]\n",
      " [0.15811388 0.         0.15811388 0.         0.11952286 0.15811388\n",
      "  0.14142136 0.         0.         0.         0.0877058  0.18257419\n",
      "  0.         0.38729833 0.         0.         0.        ]\n",
      " [0.1767767  0.         0.         0.         0.6681531  0.1767767\n",
      "  0.         0.         0.         0.09449112 0.09805807 0.20412415\n",
      "  0.         0.         0.         0.61237244 0.        ]\n",
      " [0.         0.11952286 0.         0.13363062 0.10101525 0.\n",
      "  0.         0.         0.09449112 0.         0.14824986 0.\n",
      "  0.11952286 0.         0.13363062 0.15430335 0.        ]\n",
      " [0.         0.         0.13867505 0.13867505 0.10482848 0.\n",
      "  0.         0.0877058  0.09805807 0.14824986 0.         0.\n",
      "  0.12403473 0.         0.         0.24019223 0.        ]\n",
      " [0.57735027 0.         0.28867513 0.         0.21821789 0.57735027\n",
      "  0.         0.18257419 0.20412415 0.         0.         0.\n",
      "  0.         0.23570226 0.         0.16666667 0.        ]\n",
      " [0.         0.4        0.         0.         0.         0.\n",
      "  0.         0.         0.         0.11952286 0.12403473 0.\n",
      "  0.         0.         0.         0.         0.        ]\n",
      " [0.20412415 0.         0.20412415 0.         0.15430335 0.20412415\n",
      "  0.         0.38729833 0.         0.         0.         0.23570226\n",
      "  0.         0.         0.         0.         0.        ]\n",
      " [0.         0.         0.         0.         0.         0.\n",
      "  0.         0.         0.         0.13363062 0.         0.\n",
      "  0.         0.         0.         0.         0.        ]\n",
      " [0.14433757 0.         0.         0.         0.65465367 0.14433757\n",
      "  0.         0.         0.61237244 0.15430335 0.24019223 0.16666667\n",
      "  0.         0.         0.         0.         0.        ]\n",
      " [0.         0.         0.         0.         0.         0.\n",
      "  0.         0.         0.         0.         0.         0.\n",
      "  0.         0.         0.         0.         0.        ]]\n"
     ]
    }
   ],
   "source": [
    "similarity_matrix = np.zeros((len(sentences), len(sentences)))\n",
    " \n",
    "for idx1 in range(len(sentences)):\n",
    "        for idx2 in range(len(sentences)):\n",
    "             if idx1 == idx2: #ignore if both are same sentences\n",
    "                continue \n",
    "             similarity_matrix[idx1][idx2] = sentence_similarity(sentences[idx1], sentences[idx2])\n",
    "\n",
    "print(\"Smilarity matrix \\n\", similarity_matrix)\n"
   ]
  },
  {
   "cell_type": "markdown",
   "id": "c8b5c703-e39f-4357-ac40-e1246dfafb66",
   "metadata": {},
   "source": [
    "## Rank sentences in similarity martix"
   ]
  },
  {
   "cell_type": "code",
   "execution_count": 79,
   "id": "bab6423e-2027-45f3-b98d-c74d3070c3fc",
   "metadata": {},
   "outputs": [
    {
     "name": "stdout",
     "output_type": "stream",
     "text": [
      "scores {0: 0.09080085379386142, 1: 0.04124979980517012, 2: 0.06667821641750551, 3: 0.03183205908334904, 4: 0.09261866254154015, 5: 0.09080085379386142, 6: 0.014890614537223283, 7: 0.06491981718788575, 8: 0.07899208640285744, 9: 0.06412220118463788, 10: 0.05581121953269512, 11: 0.09137711397453883, 12: 0.0482176497772007, 13: 0.057542511625549776, 14: 0.01653985909384779, 15: 0.0843185555516812, 16: 0.009287925696594429}\n"
     ]
    }
   ],
   "source": [
    "sentence_similarity_graph = nx.from_numpy_array(similarity_matrix)\n",
    "scores = nx.pagerank(sentence_similarity_graph)\n",
    "print(\"scores\", scores)"
   ]
  },
  {
   "cell_type": "markdown",
   "id": "66aa5da7-1370-46f2-90f4-457cd90ad1a2",
   "metadata": {},
   "source": [
    "## Sort sentences by pagerank"
   ]
  },
  {
   "cell_type": "code",
   "execution_count": 80,
   "id": "5aad2fde-7bec-4f04-8423-0cf5ced0d236",
   "metadata": {},
   "outputs": [
    {
     "name": "stdout",
     "output_type": "stream",
     "text": [
      "Indexes of top ranked_sentence order are \n",
      "\n",
      " [(0.09261866254154015, ['Imagine', 'all', 'the', 'people', 'livin', 'for', 'today']), (0.09137711397453883, ['Imagine', 'no', 'possessions']), (0.09080085379386142, ['Imagine', 'theres', 'no', 'heaven']), (0.09080085379386142, ['Imagine', 'theres', 'no', 'countries']), (0.0843185555516812, ['Imagine', 'all', 'the', 'people', 'sharing', 'all', 'the', 'world']), (0.07899208640285744, ['Imagine', 'all', 'the', 'people', 'livin', 'life', 'in', 'peace']), (0.06667821641750551, ['No', 'hell', 'below', 'us']), (0.06491981718788575, ['Nothing', 'to', 'kill', 'or', 'die', 'for', 'and', 'no', 'religion', 'too']), (0.06412220118463788, ['You', 'may', 'say', 'Im', 'a', 'dreamer', 'but', 'Im', 'not', 'the', 'only', 'one']), (0.057542511625549776, ['No', 'need', 'for', 'greed', 'or', 'hunger']), (0.05581121953269512, ['I', 'hope', 'someday', 'youll', 'join', 'us', 'and', 'the', 'world', 'will', 'be', 'as', 'one']), (0.0482176497772007, ['I', 'wonder', 'if', 'you', 'can']), (0.04124979980517012, ['Its', 'easy', 'if', 'you', 'try']), (0.03183205908334904, ['Above', 'us', 'only', 'sky']), (0.01653985909384779, ['A', 'brotherhood', 'of', 'man']), (0.014890614537223283, ['It', 'isnt', 'hard', 'to', 'do']), (0.009287925696594429, [])]\n"
     ]
    }
   ],
   "source": [
    "ranked_sentence = sorted(((scores[i],s) for i,s in enumerate(sentences)), reverse=True)    \n",
    "print(\"Indexes of top ranked_sentence order are \\n\\n\", ranked_sentence)\n"
   ]
  },
  {
   "cell_type": "markdown",
   "id": "a1f87a60-24cd-424a-a70d-7c894f3bc845",
   "metadata": {},
   "source": [
    "##  Pick the top “n” sentences"
   ]
  },
  {
   "cell_type": "code",
   "execution_count": 81,
   "id": "233ad9c3-f25f-47e8-9e08-fd4d2b6e5c25",
   "metadata": {},
   "outputs": [
    {
     "name": "stdout",
     "output_type": "stream",
     "text": [
      "How many sentences do you want in the summary? 3\n"
     ]
    }
   ],
   "source": [
    "n = int(input(\"How many sentences do you want in the summary? \"))\n",
    "#n=2\n",
    "summarize_text = []\n",
    "for i in range(n):\n",
    "      summarize_text.append(\" \".join(ranked_sentence[i][1]))\n"
   ]
  },
  {
   "cell_type": "markdown",
   "id": "bde36544-42b1-4ea0-a888-d1c609230ef5",
   "metadata": {},
   "source": [
    "## Finish off by printing summary"
   ]
  },
  {
   "cell_type": "code",
   "execution_count": 82,
   "id": "3ec31377-82a4-4d7c-a83d-3e34f2dcf366",
   "metadata": {},
   "outputs": [
    {
     "name": "stdout",
     "output_type": "stream",
     "text": [
      "Summarize Text: \n",
      " Imagine all the people livin for today. Imagine no possessions. Imagine theres no heaven\n"
     ]
    }
   ],
   "source": [
    "print(\"Summarize Text: \\n\", \". \".join(summarize_text))"
   ]
  },
  {
   "cell_type": "markdown",
   "id": "4dc690e1-ed07-4748-8e38-262155372216",
   "metadata": {},
   "source": [
    "# Text 5"
   ]
  },
  {
   "cell_type": "markdown",
   "id": "af7b4662-2ea2-4aab-9489-0b05b2baf3de",
   "metadata": {},
   "source": [
    "## Import needed modules"
   ]
  },
  {
   "cell_type": "code",
   "execution_count": 83,
   "id": "6376b8a7-1459-4155-8ddc-1adf74b2ec4d",
   "metadata": {},
   "outputs": [
    {
     "name": "stdout",
     "output_type": "stream",
     "text": [
      "In an attempt to build an AIready workforce Microsoft announced Intelligent Cloud Hub which has been launched to empower the next generation of students with AIready skills\n",
      "Envisioned as a threeyear collaborative program Intelligent Cloud Hub will support around  institutions with AI infrastructure course content and curriculum developer support development tools and give students access to cloud and AI services\n",
      "As part of the program the Redmond giant which wants to expand its reach and is planning to build a strong developer ecosystem in India with the program will set up the core AI infrastructure and IoT Hub for the selected campuses\n",
      "The company will provide AI development tools and Azure AI services such as Microsoft Cognitive Services Bot Services and Azure Machine LearningAccording to Manish Prakash Country General ManagerPS Health and Education Microsoft India said With AI being the defining technology of our time it is transIn an attempt to build an AIready workforce Microsoft announced Intelligent Cloud Hub which has been launched to empower the next generation of students with AIready skills\n",
      "Envisioned as a threeyear collaborative program Intelligent Cloud Hub will support around  institutions with AI infrastructure course content and curriculum developer support development tools and give students access to cloud and AI services\n",
      "As part of the program the Redmond giant which wants to expand its reach and is planning to build a strong developer ecosystem in India with the program will set up the core AI infrastructure and IoT Hub for the selected campuses\n",
      "The company will provide AI development tools and Azure AI services such as Microsoft Cognitive Services Bot Services and Azure Machine LearningAccording to Manish Prakash Country General ManagerPS Health and Education Microsoft India said With AI being the defining technology of our time it is transforming lives and industry and the jobs of tomorrow will require a different skillset\n",
      "This will require more collaborations and training and working with AI\n",
      "Thats why it has become more critical than ever for educational institutions to integrate new cloud and AI technologies\n",
      "The program is an attempt to ramp up the institutional setup and build capabilities among the educators to educate the workforce of tomorrow The program aims to build up the cognitive skills and indepth understanding of developing intelligent cloud connected solutions for applications across industry\n",
      "Earlier in April this year the company announced Microsoft Professional Program In AI as a learning track open to the public\n",
      "The program was developed to provide job ready skills to programmers who wanted to hone their skills in AI and data science with a series of online courses which featured handson labs and expert instructors as well\n",
      "This program also included developerfocused AI school that provided a bunch of assets to help build AI skills\n"
     ]
    }
   ],
   "source": [
    "from nltk.corpus import stopwords #you can remove stop words for speed\n",
    "from nltk.cluster.util import cosine_distance\n",
    "import numpy as np\n",
    "import networkx as nx\n",
    "import re\n",
    "\n",
    "file_path = \"C:/Users/dharm/Downloads/Text5.txt\"\n",
    "try:\n",
    "    with open(file_path, \"r\") as file:\n",
    "        # This file contains one paragraph of multiple sentences\n",
    "        filedata = file.readlines()\n",
    "        article = filedata[0].split(\". \")  # Just do the first paragraph\n",
    "\n",
    "        sentences = []\n",
    "        for sentence in article:\n",
    "            cleaned_sentence = re.sub(r'[^a-zA-Z\\s]', '', sentence)  # Use correct pattern for substitution\n",
    "            print(cleaned_sentence)\n",
    "            words = cleaned_sentence.split()\n",
    "            sentences.append(words)\n",
    "except FileNotFoundError:\n",
    "    print(f\"The file at the path {file_path} does not exist.\")\n"
   ]
  },
  {
   "cell_type": "markdown",
   "id": "2c752f5a-7408-4294-92c1-daa9f393e711",
   "metadata": {},
   "source": [
    "## Function to calculate similarity "
   ]
  },
  {
   "cell_type": "code",
   "execution_count": 84,
   "id": "fcad0ea3-2f4d-4670-8d61-496956d48ac7",
   "metadata": {},
   "outputs": [
    {
     "name": "stdout",
     "output_type": "stream",
     "text": [
      "Cosine Similarity between sentence 1 and sentence 2: 0.20759971844307282\n"
     ]
    }
   ],
   "source": [
    "import re\n",
    "from sklearn.metrics.pairwise import cosine_similarity\n",
    "\n",
    "def sentence_similarity(sent1, sent2):\n",
    "    sent1 = [w.lower() for w in sent1]\n",
    "    sent2 = [w.lower() for w in sent2]\n",
    "\n",
    "    all_words = list(set(sent1 + sent2))\n",
    "    vector1 = [0] * len(all_words)\n",
    "    vector2 = [0] * len(all_words)\n",
    "\n",
    "    # build the vector for the first sentence\n",
    "    for w in sent1:\n",
    "        vector1[all_words.index(w)] += 1\n",
    "\n",
    "    # build the vector for the second sentence\n",
    "    for w in sent2:\n",
    "        vector2[all_words.index(w)] += 1\n",
    "\n",
    "    # calculate cosine similarity using scikit-learn\n",
    "    vector1 = [vector1]\n",
    "    vector2 = [vector2]\n",
    "\n",
    "    similarity = cosine_similarity(vector1, vector2)[0][0]\n",
    "    return similarity\n",
    "\n",
    "file_path = \"C:/Users/dharm/Downloads/Text5.txt\"\n",
    "try:\n",
    "    with open(file_path, \"r\") as file:\n",
    "        # This file contains one paragraph of multiple sentences\n",
    "        filedata = file.readlines()\n",
    "        article = filedata[0].split(\". \")  # Just do the first paragraph\n",
    "\n",
    "        sentences = []\n",
    "        for sentence in article:\n",
    "            cleaned_sentence = re.sub(r'[^a-zA-Z\\s]', '', sentence.strip())  # Use correct pattern for substitution and strip trailing spaces\n",
    "            words = cleaned_sentence.split()\n",
    "            sentences.append(words)\n",
    "\n",
    "        # Example: Calculate similarity between the first two sentences\n",
    "        if len(sentences) >= 2:\n",
    "            similarity_score = sentence_similarity(sentences[0], sentences[1])\n",
    "            print(f\"Cosine Similarity between sentence 1 and sentence 2: {similarity_score}\")\n",
    "        else:\n",
    "            print(\"Insufficient number of sentences to compare.\")\n",
    "except FileNotFoundError:\n",
    "    print(f\"The file at the path {file_path} does not exist.\")\n"
   ]
  },
  {
   "cell_type": "markdown",
   "id": "d3d7d7d9-d4b4-426a-b616-992b6bfaece2",
   "metadata": {},
   "source": [
    "## Create the similarity matrix"
   ]
  },
  {
   "cell_type": "code",
   "execution_count": 85,
   "id": "4a09f75a-0a72-4c9a-9c87-918f1e4513d3",
   "metadata": {},
   "outputs": [
    {
     "name": "stdout",
     "output_type": "stream",
     "text": [
      "Smilarity matrix \n",
      " [[0.         0.20759972 0.31665025 0.64100589 0.20759972 0.31665025\n",
      "  0.1698824  0.04828045 0.15974461 0.41971082 0.27852425 0.33009387\n",
      "  0.19462474]\n",
      " [0.20759972 0.         0.34347322 0.43913972 1.         0.34347322\n",
      "  0.4655315  0.41344912 0.30779351 0.21877671 0.17888544 0.32616404\n",
      "  0.23333333]\n",
      " [0.31665025 0.34347322 0.         0.45770789 0.34347322 1.\n",
      "  0.46154654 0.23543548 0.16692447 0.66104069 0.46081769 0.42452948\n",
      "  0.24404677]\n",
      " [0.64100589 0.43913972 0.45770789 0.         0.43913972 0.45770789\n",
      "  0.79956606 0.30638575 0.25343316 0.46321172 0.33140686 0.40283883\n",
      "  0.26760077]\n",
      " [0.20759972 1.         0.34347322 0.43913972 0.         0.34347322\n",
      "  0.4655315  0.41344912 0.30779351 0.21877671 0.17888544 0.32616404\n",
      "  0.23333333]\n",
      " [0.31665025 0.34347322 1.         0.45770789 0.34347322 0.\n",
      "  0.46154654 0.23543548 0.16692447 0.66104069 0.46081769 0.42452948\n",
      "  0.24404677]\n",
      " [0.1698824  0.4655315  0.46154654 0.79956606 0.4655315  0.46154654\n",
      "  0.         0.46013217 0.22388683 0.39897829 0.29277002 0.35587414\n",
      "  0.21821789]\n",
      " [0.04828045 0.41344912 0.23543548 0.30638575 0.41344912 0.23543548\n",
      "  0.46013217 0.         0.25451391 0.11629676 0.11094004 0.24273402\n",
      "  0.1860521 ]\n",
      " [0.15974461 0.30779351 0.16692447 0.25343316 0.30779351 0.16692447\n",
      "  0.22388683 0.25451391 0.         0.16834512 0.09176629 0.20078234\n",
      "  0.15389675]\n",
      " [0.41971082 0.21877671 0.66104069 0.46321172 0.21877671 0.66104069\n",
      "  0.39897829 0.11629676 0.16834512 0.         0.35641684 0.38227015\n",
      "  0.23440362]\n",
      " [0.27852425 0.17888544 0.46081769 0.33140686 0.17888544 0.46081769\n",
      "  0.29277002 0.11094004 0.09176629 0.35641684 0.         0.32090298\n",
      "  0.26832816]\n",
      " [0.33009387 0.32616404 0.42452948 0.40283883 0.32616404 0.42452948\n",
      "  0.35587414 0.24273402 0.20078234 0.38227015 0.32090298 0.\n",
      "  0.32616404]\n",
      " [0.19462474 0.23333333 0.24404677 0.26760077 0.23333333 0.24404677\n",
      "  0.21821789 0.1860521  0.15389675 0.23440362 0.26832816 0.32616404\n",
      "  0.        ]]\n"
     ]
    }
   ],
   "source": [
    "similarity_matrix = np.zeros((len(sentences), len(sentences)))\n",
    " \n",
    "for idx1 in range(len(sentences)):\n",
    "        for idx2 in range(len(sentences)):\n",
    "             if idx1 == idx2: #ignore if both are same sentences\n",
    "                continue \n",
    "             similarity_matrix[idx1][idx2] = sentence_similarity(sentences[idx1], sentences[idx2])\n",
    "\n",
    "print(\"Smilarity matrix \\n\", similarity_matrix)\n"
   ]
  },
  {
   "cell_type": "markdown",
   "id": "c28d19a6-2430-4a95-b3eb-69a2ce7d52bb",
   "metadata": {},
   "source": [
    "##  Rank sentences in similarity martix"
   ]
  },
  {
   "cell_type": "code",
   "execution_count": 86,
   "id": "d498e824-0160-4641-88f6-bb0746d02ab4",
   "metadata": {},
   "outputs": [
    {
     "name": "stdout",
     "output_type": "stream",
     "text": [
      "scores {0: 0.06457109964639175, 1: 0.08430305122393633, 2: 0.09427500950911444, 3: 0.09706391412109275, 4: 0.08430305122393633, 5: 0.09427500950911444, 6: 0.08886376812998022, 7: 0.06041325992982569, 8: 0.05126155701591537, 9: 0.08097335258147464, 10: 0.0652332156732038, 11: 0.07751378107719518, 12: 0.05694993035881907}\n"
     ]
    }
   ],
   "source": [
    "sentence_similarity_graph = nx.from_numpy_array(similarity_matrix)\n",
    "scores = nx.pagerank(sentence_similarity_graph)\n",
    "print(\"scores\", scores)"
   ]
  },
  {
   "cell_type": "markdown",
   "id": "da359dfc-ddf1-4cb7-b6b2-d946a346cdee",
   "metadata": {},
   "source": [
    "## Sort sentences by pagerank"
   ]
  },
  {
   "cell_type": "code",
   "execution_count": 87,
   "id": "de9da7a9-04f1-4cd8-b851-629ac79cbb50",
   "metadata": {},
   "outputs": [
    {
     "name": "stdout",
     "output_type": "stream",
     "text": [
      "Indexes of top ranked_sentence order are \n",
      "\n",
      " [(0.09706391412109275, ['The', 'company', 'will', 'provide', 'AI', 'development', 'tools', 'and', 'Azure', 'AI', 'services', 'such', 'as', 'Microsoft', 'Cognitive', 'Services', 'Bot', 'Services', 'and', 'Azure', 'Machine', 'LearningAccording', 'to', 'Manish', 'Prakash', 'Country', 'General', 'ManagerPS', 'Health', 'and', 'Education', 'Microsoft', 'India', 'said', 'With', 'AI', 'being', 'the', 'defining', 'technology', 'of', 'our', 'time', 'it', 'is', 'transIn', 'an', 'attempt', 'to', 'build', 'an', 'AIready', 'workforce', 'Microsoft', 'announced', 'Intelligent', 'Cloud', 'Hub', 'which', 'has', 'been', 'launched', 'to', 'empower', 'the', 'next', 'generation', 'of', 'students', 'with', 'AIready', 'skills']), (0.09427500950911444, ['As', 'part', 'of', 'the', 'program', 'the', 'Redmond', 'giant', 'which', 'wants', 'to', 'expand', 'its', 'reach', 'and', 'is', 'planning', 'to', 'build', 'a', 'strong', 'developer', 'ecosystem', 'in', 'India', 'with', 'the', 'program', 'will', 'set', 'up', 'the', 'core', 'AI', 'infrastructure', 'and', 'IoT', 'Hub', 'for', 'the', 'selected', 'campuses']), (0.09427500950911444, ['As', 'part', 'of', 'the', 'program', 'the', 'Redmond', 'giant', 'which', 'wants', 'to', 'expand', 'its', 'reach', 'and', 'is', 'planning', 'to', 'build', 'a', 'strong', 'developer', 'ecosystem', 'in', 'India', 'with', 'the', 'program', 'will', 'set', 'up', 'the', 'core', 'AI', 'infrastructure', 'and', 'IoT', 'Hub', 'for', 'the', 'selected', 'campuses']), (0.08886376812998022, ['The', 'company', 'will', 'provide', 'AI', 'development', 'tools', 'and', 'Azure', 'AI', 'services', 'such', 'as', 'Microsoft', 'Cognitive', 'Services', 'Bot', 'Services', 'and', 'Azure', 'Machine', 'LearningAccording', 'to', 'Manish', 'Prakash', 'Country', 'General', 'ManagerPS', 'Health', 'and', 'Education', 'Microsoft', 'India', 'said', 'With', 'AI', 'being', 'the', 'defining', 'technology', 'of', 'our', 'time', 'it', 'is', 'transforming', 'lives', 'and', 'industry', 'and', 'the', 'jobs', 'of', 'tomorrow', 'will', 'require', 'a', 'different', 'skillset']), (0.08430305122393633, ['Envisioned', 'as', 'a', 'threeyear', 'collaborative', 'program', 'Intelligent', 'Cloud', 'Hub', 'will', 'support', 'around', 'institutions', 'with', 'AI', 'infrastructure', 'course', 'content', 'and', 'curriculum', 'developer', 'support', 'development', 'tools', 'and', 'give', 'students', 'access', 'to', 'cloud', 'and', 'AI', 'services']), (0.08430305122393633, ['Envisioned', 'as', 'a', 'threeyear', 'collaborative', 'program', 'Intelligent', 'Cloud', 'Hub', 'will', 'support', 'around', 'institutions', 'with', 'AI', 'infrastructure', 'course', 'content', 'and', 'curriculum', 'developer', 'support', 'development', 'tools', 'and', 'give', 'students', 'access', 'to', 'cloud', 'and', 'AI', 'services']), (0.08097335258147464, ['The', 'program', 'is', 'an', 'attempt', 'to', 'ramp', 'up', 'the', 'institutional', 'setup', 'and', 'build', 'capabilities', 'among', 'the', 'educators', 'to', 'educate', 'the', 'workforce', 'of', 'tomorrow', 'The', 'program', 'aims', 'to', 'build', 'up', 'the', 'cognitive', 'skills', 'and', 'indepth', 'understanding', 'of', 'developing', 'intelligent', 'cloud', 'connected', 'solutions', 'for', 'applications', 'across', 'industry']), (0.07751378107719518, ['The', 'program', 'was', 'developed', 'to', 'provide', 'job', 'ready', 'skills', 'to', 'programmers', 'who', 'wanted', 'to', 'hone', 'their', 'skills', 'in', 'AI', 'and', 'data', 'science', 'with', 'a', 'series', 'of', 'online', 'courses', 'which', 'featured', 'handson', 'labs', 'and', 'expert', 'instructors', 'as', 'well']), (0.0652332156732038, ['Earlier', 'in', 'April', 'this', 'year', 'the', 'company', 'announced', 'Microsoft', 'Professional', 'Program', 'In', 'AI', 'as', 'a', 'learning', 'track', 'open', 'to', 'the', 'public']), (0.06457109964639175, ['In', 'an', 'attempt', 'to', 'build', 'an', 'AIready', 'workforce', 'Microsoft', 'announced', 'Intelligent', 'Cloud', 'Hub', 'which', 'has', 'been', 'launched', 'to', 'empower', 'the', 'next', 'generation', 'of', 'students', 'with', 'AIready', 'skills']), (0.06041325992982569, ['This', 'will', 'require', 'more', 'collaborations', 'and', 'training', 'and', 'working', 'with', 'AI']), (0.05694993035881907, ['This', 'program', 'also', 'included', 'developerfocused', 'AI', 'school', 'that', 'provided', 'a', 'bunch', 'of', 'assets', 'to', 'help', 'build', 'AI', 'skills']), (0.05126155701591537, ['Thats', 'why', 'it', 'has', 'become', 'more', 'critical', 'than', 'ever', 'for', 'educational', 'institutions', 'to', 'integrate', 'new', 'cloud', 'and', 'AI', 'technologies'])]\n"
     ]
    }
   ],
   "source": [
    "ranked_sentence = sorted(((scores[i],s) for i,s in enumerate(sentences)), reverse=True)    \n",
    "print(\"Indexes of top ranked_sentence order are \\n\\n\", ranked_sentence)\n"
   ]
  },
  {
   "cell_type": "markdown",
   "id": "10a0716e-4a0d-413a-9d2c-86570d0d5f9c",
   "metadata": {},
   "source": [
    "##  Pick the top “n” sentences"
   ]
  },
  {
   "cell_type": "code",
   "execution_count": 88,
   "id": "665a1792-c98a-4eab-b96c-69572141c684",
   "metadata": {},
   "outputs": [
    {
     "name": "stdout",
     "output_type": "stream",
     "text": [
      "How many sentences do you want in the summary? 3\n"
     ]
    }
   ],
   "source": [
    "n = int(input(\"How many sentences do you want in the summary? \"))\n",
    "#n=2\n",
    "summarize_text = []\n",
    "for i in range(n):\n",
    "      summarize_text.append(\" \".join(ranked_sentence[i][1]))\n"
   ]
  },
  {
   "cell_type": "markdown",
   "id": "78e03a75-0cca-4541-be7a-4f54bd407231",
   "metadata": {},
   "source": [
    "##  Finish off by printing summary"
   ]
  },
  {
   "cell_type": "code",
   "execution_count": 89,
   "id": "4c745b02-699c-49c8-9ff7-9ebfed699f77",
   "metadata": {},
   "outputs": [
    {
     "name": "stdout",
     "output_type": "stream",
     "text": [
      "Summarize Text: \n",
      " The company will provide AI development tools and Azure AI services such as Microsoft Cognitive Services Bot Services and Azure Machine LearningAccording to Manish Prakash Country General ManagerPS Health and Education Microsoft India said With AI being the defining technology of our time it is transIn an attempt to build an AIready workforce Microsoft announced Intelligent Cloud Hub which has been launched to empower the next generation of students with AIready skills. As part of the program the Redmond giant which wants to expand its reach and is planning to build a strong developer ecosystem in India with the program will set up the core AI infrastructure and IoT Hub for the selected campuses. As part of the program the Redmond giant which wants to expand its reach and is planning to build a strong developer ecosystem in India with the program will set up the core AI infrastructure and IoT Hub for the selected campuses\n"
     ]
    }
   ],
   "source": [
    "print(\"Summarize Text: \\n\", \". \".join(summarize_text))"
   ]
  }
 ],
 "metadata": {
  "kernelspec": {
   "display_name": "Python 3 (ipykernel)",
   "language": "python",
   "name": "python3"
  },
  "language_info": {
   "codemirror_mode": {
    "name": "ipython",
    "version": 3
   },
   "file_extension": ".py",
   "mimetype": "text/x-python",
   "name": "python",
   "nbconvert_exporter": "python",
   "pygments_lexer": "ipython3",
   "version": "3.11.5"
  }
 },
 "nbformat": 4,
 "nbformat_minor": 5
}
